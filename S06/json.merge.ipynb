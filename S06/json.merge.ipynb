{
 "cells": [
  {
   "cell_type": "code",
   "execution_count": 86,
   "metadata": {
    "collapsed": false
   },
   "outputs": [],
   "source": [
    "import pprint\n",
    "import simplejson\n",
    "import pandas as pd\n",
    "from firebase import firebase\n",
    "\n",
    "url = 'https://ascension.firebaseio.com'\n",
    "firebase = firebase.FirebaseApplication(url, None)\n",
    "base = firebase.get('/', None)"
   ]
  },
  {
   "cell_type": "code",
   "execution_count": 87,
   "metadata": {
    "collapsed": false
   },
   "outputs": [],
   "source": [
    "bios = pd.read_csv('character.bios.csv')\n",
    "powers = pd.read_csv('character.powers.csv')\n",
    "episodes = pd.read_csv('episodes.csv')\n",
    "houses = pd.read_csv('houses.csv')\n",
    "leagues = pd.read_csv('leagues.csv')"
   ]
  },
  {
   "cell_type": "markdown",
   "metadata": {},
   "source": [
    "## Game Data"
   ]
  },
  {
   "cell_type": "markdown",
   "metadata": {},
   "source": [
    "### Houses"
   ]
  },
  {
   "cell_type": "code",
   "execution_count": 88,
   "metadata": {
    "collapsed": true
   },
   "outputs": [],
   "source": [
    "idx = houses.id\n",
    "houses.index = idx\n",
    "houses_json = houses.to_json(orient='index', force_ascii=False)"
   ]
  },
  {
   "cell_type": "markdown",
   "metadata": {},
   "source": [
    "### Characters"
   ]
  },
  {
   "cell_type": "code",
   "execution_count": 89,
   "metadata": {
    "collapsed": false,
    "scrolled": false
   },
   "outputs": [],
   "source": [
    "characters = powers.merge(bios)\n",
    "idx = characters.id\n",
    "characters.index = idx\n",
    "char_json = characters.to_json(orient='index', force_ascii=False)"
   ]
  },
  {
   "cell_type": "markdown",
   "metadata": {},
   "source": [
    "### Episodes"
   ]
  },
  {
   "cell_type": "code",
   "execution_count": 90,
   "metadata": {
    "collapsed": false
   },
   "outputs": [],
   "source": [
    "idx = episodes.number\n",
    "episodes.index = idx\n",
    "eps_json = episodes.to_json(orient='index',force_ascii=False)"
   ]
  },
  {
   "cell_type": "markdown",
   "metadata": {},
   "source": [
    "## Merge"
   ]
  },
  {
   "cell_type": "code",
   "execution_count": 91,
   "metadata": {
    "collapsed": false,
    "scrolled": false
   },
   "outputs": [],
   "source": [
    "with open('ascension-export.json') as json_file:\n",
    "    base['houses'] = simplejson.loads(houses_json,\"utf-8\")\n",
    "    base['characters'] = simplejson.loads(char_json, \"utf-8\")\n",
    "    base['episodes'] = simplejson.loads(eps_json, \"utf-8\")\n",
    "    base['leagues'] = dict(zip(list(leagues.leagues.values), [True] * len(leagues)))"
   ]
  },
  {
   "cell_type": "code",
   "execution_count": 92,
   "metadata": {
    "collapsed": false
   },
   "outputs": [],
   "source": [
    "with open('ascension-import.json','w') as json_file:\n",
    "    simplejson.dump(base, json_file)"
   ]
  },
  {
   "cell_type": "code",
   "execution_count": 93,
   "metadata": {
    "collapsed": false,
    "scrolled": false
   },
   "outputs": [],
   "source": [
    "# base"
   ]
  }
 ],
 "metadata": {
  "kernelspec": {
   "display_name": "Python 2",
   "language": "python",
   "name": "python2"
  },
  "language_info": {
   "codemirror_mode": {
    "name": "ipython",
    "version": 2
   },
   "file_extension": ".py",
   "mimetype": "text/x-python",
   "name": "python",
   "nbconvert_exporter": "python",
   "pygments_lexer": "ipython2",
   "version": "2.7.11"
  }
 },
 "nbformat": 4,
 "nbformat_minor": 0
}
