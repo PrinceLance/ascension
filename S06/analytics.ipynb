{
 "cells": [
  {
   "cell_type": "markdown",
   "metadata": {
    "slideshow": {
     "slide_type": "slide"
    }
   },
   "source": [
    "# Ascension Analytics"
   ]
  },
  {
   "cell_type": "markdown",
   "metadata": {
    "slideshow": {
     "slide_type": "skip"
    }
   },
   "source": [
    "### Preamble"
   ]
  },
  {
   "cell_type": "code",
   "execution_count": 57,
   "metadata": {
    "collapsed": false,
    "slideshow": {
     "slide_type": "skip"
    }
   },
   "outputs": [],
   "source": [
    "from __future__ import division\n",
    "# import qgrid\n",
    "import pprint\n",
    "import simplejson\n",
    "import pandas as pd\n",
    "\n",
    "from firebase import firebase\n",
    "from collections import defaultdict\n",
    "\n",
    "from plotly.offline import init_notebook_mode, iplot\n",
    "import cufflinks as cf\n",
    "\n",
    "init_notebook_mode()\n",
    "cf.go_offline()"
   ]
  },
  {
   "cell_type": "code",
   "execution_count": 58,
   "metadata": {
    "collapsed": false,
    "slideshow": {
     "slide_type": "skip"
    }
   },
   "outputs": [],
   "source": [
    "url = 'https://ascension.firebaseio.com'\n",
    "firebase = firebase.FirebaseApplication(url, None)\n",
    "base = firebase.get('/', None)\n",
    "\n",
    "# Cache Game Data\n",
    "with open('/tmp/ascension.json','w') as json_file:\n",
    "    simplejson.dump(base, json_file)"
   ]
  },
  {
   "cell_type": "markdown",
   "metadata": {
    "slideshow": {
     "slide_type": "skip"
    }
   },
   "source": [
    "#### Load Cached Data"
   ]
  },
  {
   "cell_type": "code",
   "execution_count": 59,
   "metadata": {
    "collapsed": false,
    "slideshow": {
     "slide_type": "skip"
    }
   },
   "outputs": [],
   "source": [
    "with open('/tmp/ascension.json') as json_file:\n",
    "    base = simplejson.load(json_file)"
   ]
  },
  {
   "cell_type": "markdown",
   "metadata": {
    "slideshow": {
     "slide_type": "skip"
    }
   },
   "source": [
    "#### Config"
   ]
  },
  {
   "cell_type": "code",
   "execution_count": 60,
   "metadata": {
    "collapsed": false,
    "slideshow": {
     "slide_type": "slide"
    }
   },
   "outputs": [
    {
     "data": {
      "text/html": [
       "<script>\n",
       "code_show=true; \n",
       "function code_toggle() {\n",
       "Reveal.initialize({\n",
       "    width: '1350',\n",
       "    height: '100%'\n",
       "})\n",
       " if (code_show){\n",
       " $('div.input').hide();\n",
       " } else {\n",
       " $('div.input').show();\n",
       " }\n",
       " code_show = !code_show\n",
       "} \n",
       "$( document ).ready(code_toggle);\n",
       "</script>\n",
       "<form action=\"javascript:code_toggle()\"><input type=\"submit\" value=\"Click here to toggle on/off the raw code.\"></form>"
      ],
      "text/plain": [
       "<IPython.core.display.HTML object>"
      ]
     },
     "execution_count": 60,
     "metadata": {},
     "output_type": "execute_result"
    }
   ],
   "source": [
    "# Jupyter Notebook\n",
    "from IPython.display import HTML\n",
    "HTML('''<style> #notebook-container{width:1270px}\n",
    ".reveal .slides {\n",
    "    width: 100% !important;\n",
    "}\n",
    "</style>''')\n",
    "HTML('''<script src=\"https://cdn.plot.ly/plotly-latest.min.js\"></script>''')\n",
    "\n",
    "HTML('''<script>\n",
    "code_show=true; \n",
    "function code_toggle() {\n",
    "Reveal.initialize({\n",
    "    width: '1350',\n",
    "    height: '100%'\n",
    "})\n",
    " if (code_show){\n",
    " $('div.input').hide();\n",
    " } else {\n",
    " $('div.input').show();\n",
    " }\n",
    " code_show = !code_show\n",
    "} \n",
    "$( document ).ready(code_toggle);\n",
    "</script>\n",
    "<form action=\"javascript:code_toggle()\"><input type=\"submit\" value=\"Click here to toggle on/off the raw code.\"></form>''')\n",
    "\n",
    "# Cufflinks\n",
    "# cf.set_config_file(offline_show_link=False,theme='solar')\n",
    "# cf.get_config_file()"
   ]
  },
  {
   "cell_type": "markdown",
   "metadata": {
    "slideshow": {
     "slide_type": "skip"
    }
   },
   "source": [
    "#### Styles"
   ]
  },
  {
   "cell_type": "code",
   "execution_count": 61,
   "metadata": {
    "collapsed": false,
    "slideshow": {
     "slide_type": "skip"
    }
   },
   "outputs": [],
   "source": [
    "# AVAILABLE THEMES\n",
    "\n",
    "# for theme in cf.getThemes():\n",
    "#     print theme\n",
    "#     cf.datagen.lines().iplot(kind='bar', colorscale='set3', theme=theme)\n",
    "\n",
    "# AVAILABLE SCALES\n",
    "# cf.colors.scales()\n",
    "\n",
    "COLORSCALE = 'rdylbu'\n",
    "COLORSCALE_D = 'spectral'\n",
    "COLORSCALE_C = 'ylgn'"
   ]
  },
  {
   "cell_type": "markdown",
   "metadata": {
    "slideshow": {
     "slide_type": "skip"
    }
   },
   "source": [
    "#### Documentation"
   ]
  },
  {
   "cell_type": "code",
   "execution_count": 62,
   "metadata": {
    "collapsed": false,
    "scrolled": false,
    "slideshow": {
     "slide_type": "skip"
    }
   },
   "outputs": [],
   "source": [
    "# Cufflinks Iplot\n",
    "# help(pd.DataFrame.iplot)"
   ]
  },
  {
   "cell_type": "markdown",
   "metadata": {
    "slideshow": {
     "slide_type": "skip"
    }
   },
   "source": [
    "### Utility Functions"
   ]
  },
  {
   "cell_type": "code",
   "execution_count": 63,
   "metadata": {
    "collapsed": true,
    "slideshow": {
     "slide_type": "skip"
    }
   },
   "outputs": [],
   "source": [
    "# Set this pandas option to prevent the grid from being too big\n",
    "pd.set_option('display.max_rows', 20)\n",
    "# grid = lambda df: qgrid.show_grid(df)\n",
    "\n",
    "\n",
    "import collections\n",
    "\n",
    "def flatten(d, parent_key='', sep='_'):\n",
    "    items = []\n",
    "    for k, v in d.items():\n",
    "        new_key = parent_key + sep + k if parent_key else k\n",
    "        if isinstance(v, collections.MutableMapping):\n",
    "            items.extend(flatten(v, new_key, sep=sep).items())\n",
    "        else:\n",
    "            items.append((new_key, v))\n",
    "    return dict(items)"
   ]
  },
  {
   "cell_type": "markdown",
   "metadata": {
    "slideshow": {
     "slide_type": "skip"
    }
   },
   "source": [
    "### Globals"
   ]
  },
  {
   "cell_type": "code",
   "execution_count": 64,
   "metadata": {
    "collapsed": true,
    "slideshow": {
     "slide_type": "skip"
    }
   },
   "outputs": [],
   "source": [
    "LEAGUE = 'essos'\n",
    "EPISODE = 60"
   ]
  },
  {
   "cell_type": "markdown",
   "metadata": {
    "slideshow": {
     "slide_type": "skip"
    }
   },
   "source": [
    "### Data Structure"
   ]
  },
  {
   "cell_type": "code",
   "execution_count": 65,
   "metadata": {
    "collapsed": false,
    "slideshow": {
     "slide_type": "skip"
    }
   },
   "outputs": [],
   "source": [
    "# base.keys()"
   ]
  },
  {
   "cell_type": "code",
   "execution_count": 66,
   "metadata": {
    "collapsed": false,
    "slideshow": {
     "slide_type": "skip"
    }
   },
   "outputs": [],
   "source": [
    "# Episodes\n",
    "episodes = pd.DataFrame(base['episodes'].values())\n",
    "\n",
    "# Houses \n",
    "houses = pd.DataFrame(base['houses'].values())\n",
    "\n",
    "# Characters\n",
    "characters = pd.DataFrame(base['characters'].values())\n",
    "\n",
    "# Players\n",
    "players = pd.DataFrame(base['players'].values())[['alias','alias_short','facebook','first_name','full_name']]\n",
    "players['id'] = 'facebook:' + players.facebook\n",
    "players = players.set_index('id')\n",
    "roster = pd.DataFrame(base['rosters'].values())\n",
    "\n",
    "# Leaderboard\n",
    "leaderboard = pd.concat([pd.DataFrame(y['scores'].values(), index=y['scores'].keys(), columns=[y['episode']]) for x,y in base['leaderboard'].iteritems() if LEAGUE in x], axis=1).sort_index(axis=1).sort_values(EPISODE, ascending=False)\n",
    "try:\n",
    "    leaderboard.index = leaderboard.index.to_series().apply(lambda id: players.ix[id,'first_name'])\n",
    "except KeyError:\n",
    "    print 'Leaderboard : Mapping only once'\n",
    "\n",
    "# Episode Scores\n",
    "index = [y['episode'] for x, y in base['episode_scores'].iteritems() if y['league'] == LEAGUE]\n",
    "episode_scores = pd.DataFrame([y['scores'] for x, y in base['episode_scores'].iteritems() if y['league'] == LEAGUE], index=index).sort_index()\n",
    "episode_scores\n",
    "\n",
    "# Votes\n",
    "votes = pd.DataFrame([y for x,y in base['votes'].iteritems() if y['league'] == LEAGUE])\n",
    "try:\n",
    "    votes.player = votes.player.apply(lambda id: players.ix[id,'first_name'])\n",
    "except KeyError:\n",
    "    print 'Votes : Mapping only once'\n",
    "votes.set_index(['player','episode']).ix[:,votes.set_index(['player','episode']).columns.str.contains('vote')].sort_index()\n",
    "    \n",
    "# Episode Votes\n",
    "episode_vote = [pd.DataFrame(y['votes']['values'], columns=y['votes']['houses'], index=y['votes']['characters']) for x,y in base['episode_votes'].iteritems() if y['league'] == LEAGUE]   \n",
    "\n",
    "# Player Award Scores\n",
    "player_award_scores = pd.DataFrame([flatten(y) for x,y in base['player_award_scores'].iteritems()if y['league'] == LEAGUE] )\n",
    "try:\n",
    "    player_award_scores.player = player_award_scores.player.apply(lambda id: players.ix[id,'first_name'])\n",
    "except KeyError:\n",
    "    print 'Player Votes : Mapping only once'\n",
    "\n",
    "# Character Health\n",
    "character_health = pd.DataFrame([flatten(y) for x,y in base['character_health'].iteritems() if LEAGUE in x]).groupby(['house','episode']).sum()\n",
    "\n",
    "missions = pd.DataFrame([flatten(y) for x,y in base['missions'].iteritems() if LEAGUE == y['league']])\n",
    "missions.ix[missions.assassination_target_house == '','assassination_agent assassination_target_character assassination_target_house'.split(' ')] = 'None'\n",
    "missions.ix[missions.diplomatic_agent == '','diplomatic_agent diplomatic_target_house'.split(' ')] = 'None'\n",
    "try:\n",
    "    missions.player = missions.player.apply(lambda id: players.ix[id,'first_name'])\n",
    "except KeyError:\n",
    "    print 'Missions : Mapping only once'\n",
    "\n",
    "# Player Chronicle - NEEDS FLATTENING\n",
    "# player_chronicles = base['player_chronicles']\n",
    "\n",
    "# Player Intelligence - NEEDS FLATTENING\n",
    "player_intelligence = pd.DataFrame(base['player_intelligence'])"
   ]
  },
  {
   "cell_type": "code",
   "execution_count": 67,
   "metadata": {
    "collapsed": false,
    "slideshow": {
     "slide_type": "skip"
    }
   },
   "outputs": [],
   "source": [
    "index = [flatten(y)['house'] for x,y in base['character_health'].iteritems() if LEAGUE in x and y['episode'] == EPISODE]\n",
    "game_rosters = pd.DataFrame([flatten(y) for x,y in base['character_health'].iteritems() if LEAGUE in x and y['episode'] == EPISODE], index=index)\n",
    "game_rosters.columns = game_rosters.columns.str.replace('health_','')\n",
    "game_rosters = game_rosters.ix[:,1:-2]\n",
    "game_rosters = game_rosters.T"
   ]
  },
  {
   "cell_type": "code",
   "execution_count": 68,
   "metadata": {
    "collapsed": false,
    "slideshow": {
     "slide_type": "skip"
    }
   },
   "outputs": [],
   "source": [
    "player_houses_map = defaultdict(dict)\n",
    "\n",
    "for player, vals in pd.DataFrame(base['players'].values())[['first_name','house']].iterrows():\n",
    "    name = vals['first_name']\n",
    "    for l,h in vals['house'].iteritems():\n",
    "        player_houses_map[l][name] = h"
   ]
  },
  {
   "cell_type": "code",
   "execution_count": 69,
   "metadata": {
    "collapsed": true,
    "slideshow": {
     "slide_type": "skip"
    }
   },
   "outputs": [],
   "source": [
    "player_awarded_points = player_award_scores.reset_index().groupby('player').sum()\n",
    "player_awarded_points.ix[:,player_awarded_points.columns.str.contains('scores')]\n",
    "player_awarded_points.columns = player_awarded_points.columns.str.replace('scores_','')"
   ]
  },
  {
   "cell_type": "code",
   "execution_count": 70,
   "metadata": {
    "collapsed": false,
    "slideshow": {
     "slide_type": "skip"
    }
   },
   "outputs": [],
   "source": [
    "# game_rosters.T.ix[game_rosters.T.greyjoy.notnull(),'greyjoy']"
   ]
  },
  {
   "cell_type": "markdown",
   "metadata": {
    "slideshow": {
     "slide_type": "skip"
    }
   },
   "source": [
    "#### Global"
   ]
  },
  {
   "cell_type": "code",
   "execution_count": 71,
   "metadata": {
    "collapsed": false,
    "slideshow": {
     "slide_type": "skip"
    }
   },
   "outputs": [],
   "source": [
    "# Missions\n",
    "missions_global = pd.DataFrame([flatten(y) for x,y in base['missions'].iteritems()])\n",
    "missions_global.ix[missions_global.assassination_target_house == '','assassination_agent assassination_target_character assassination_target_house'.split(' ')] = 'None'\n",
    "missions_global.ix[missions_global.diplomatic_agent == '','diplomatic_agent diplomatic_target_house'.split(' ')] = 'None'\n",
    "try:\n",
    "    missions_global.player = missions_global.player.apply(lambda id: players.ix[id,'first_name'])\n",
    "except KeyError:\n",
    "    print 'Missions : Mapping only once'\n",
    "    \n",
    "# Votes\n",
    "votes_global = pd.DataFrame([y for x,y in base['votes'].iteritems()])\n",
    "try:\n",
    "    votes_global.player = votes_global.player.apply(lambda id: players.ix[id,'first_name'])\n",
    "except KeyError:\n",
    "    print 'Votes : Mapping only once'\n",
    "votes_global = votes_global.set_index(['player','episode']).ix[:,votes_global.set_index(['player','episode']).columns.str.contains('vote')].sort_index()"
   ]
  },
  {
   "cell_type": "markdown",
   "metadata": {
    "slideshow": {
     "slide_type": "slide"
    }
   },
   "source": [
    "# Data Graphics"
   ]
  },
  {
   "cell_type": "code",
   "execution_count": 72,
   "metadata": {
    "collapsed": false,
    "slideshow": {
     "slide_type": "slide"
    }
   },
   "outputs": [
    {
     "data": {
      "text/html": [
       "<div id=\"a4d363e2-29aa-4cb9-b126-d2d21b4040d0\" style=\"height: 587; width: 1116px;\" class=\"plotly-graph-div\"></div><script type=\"text/javascript\">require([\"plotly\"], function(Plotly) { window.PLOTLYENV=window.PLOTLYENV || {};window.PLOTLYENV.BASE_URL=\"https://plot.ly\";Plotly.newPlot(\"a4d363e2-29aa-4cb9-b126-d2d21b4040d0\", [{\"name\": \"episode\", \"text\": \"\", \"y\": [21, 20, 20, 10, 10, 10, 10, 10, 10, 10, 10, 10, 9, 9, 9, 9, 9, 8, 7, 7, 6, 5, 5, 4, 2, 1], \"marker\": {\"color\": \"rgba(255, 153, 51, 0.6)\", \"line\": {\"color\": \"rgba(255, 153, 51, 1.0)\", \"width\": 1}}, \"x\": [\"Sherin\", \"Mart\", \"Lance\", \"Janneke\", \"Alissa\", \"Billy\", \"Claudio\", \"Dale\", \"Hywel\", \"James\", \"Ivar\", \"Krystyna\", \"Kirsty\", \"Hayley\", \"Dan\", \"Lucia\", \"Patti\", \"Rob\", \"Denis\", \"Alejandro\", \"Daisy\", \"Kai\", \"Dickson\", \"Adrien\", \"Kristin\", \"Michelle\"], \"type\": \"bar\", \"orientation\": \"v\"}], {\"title\": \"Votes cast per Player in the Game\", \"paper_bgcolor\": \"#151516\", \"plot_bgcolor\": \"#151516\", \"xaxis1\": {\"tickfont\": {\"color\": \"#C2C2C2\"}, \"title\": \"\", \"showgrid\": true, \"zerolinecolor\": \"#666570\", \"gridcolor\": \"#434343\", \"titlefont\": {\"color\": \"#D9D9D9\"}}, \"height\": 587, \"yaxis1\": {\"tickfont\": {\"color\": \"#C2C2C2\"}, \"title\": \"\", \"showgrid\": true, \"zerolinecolor\": \"#666570\", \"gridcolor\": \"#434343\", \"titlefont\": {\"color\": \"#D9D9D9\"}}, \"width\": 1116, \"titlefont\": {\"color\": \"#D9D9D9\"}, \"legend\": {\"bgcolor\": \"#151516\", \"font\": {\"color\": \"#D9D9D9\"}}}, {\"linkText\": \"Export to plot.ly\", \"showLink\": false})});</script>"
      ],
      "text/plain": [
       "<IPython.core.display.HTML object>"
      ]
     },
     "metadata": {},
     "output_type": "display_data"
    }
   ],
   "source": [
    "try:\n",
    "    10 - missions_global.groupby('player').count()['episode'].sort_values(ascending=False).iplot(kind='bar', title='Votes cast per Player in the Game');\n",
    "except TypeError:\n",
    "    pass"
   ]
  },
  {
   "cell_type": "code",
   "execution_count": 73,
   "metadata": {
    "collapsed": false,
    "slideshow": {
     "slide_type": "subslide"
    }
   },
   "outputs": [
    {
     "data": {
      "text/html": [
       "<div id=\"865ac414-bb2d-4b18-985b-7678df8a0fc4\" style=\"height: 587; width: 1116px;\" class=\"plotly-graph-div\"></div><script type=\"text/javascript\">require([\"plotly\"], function(Plotly) { window.PLOTLYENV=window.PLOTLYENV || {};window.PLOTLYENV.BASE_URL=\"https://plot.ly\";Plotly.newPlot(\"865ac414-bb2d-4b18-985b-7678df8a0fc4\", [{\"name\": \"episode\", \"text\": \"\", \"y\": [10, 10, 10, 10, 9, 9, 7, 5, 4, 2, 1], \"marker\": {\"color\": \"rgba(255, 153, 51, 0.6)\", \"line\": {\"color\": \"rgba(255, 153, 51, 1.0)\", \"width\": 1}}, \"x\": [\"Lance\", \"Krystyna\", \"James\", \"Alissa\", \"Patti\", \"Lucia\", \"Denis\", \"Kai\", \"Adrien\", \"Kristin\", \"Michelle\"], \"type\": \"bar\", \"orientation\": \"v\"}], {\"title\": \"Votes cast per Player in Essos\", \"paper_bgcolor\": \"#151516\", \"plot_bgcolor\": \"#151516\", \"xaxis1\": {\"tickfont\": {\"color\": \"#C2C2C2\"}, \"title\": \"\", \"showgrid\": true, \"zerolinecolor\": \"#666570\", \"gridcolor\": \"#434343\", \"titlefont\": {\"color\": \"#D9D9D9\"}}, \"height\": 587, \"yaxis1\": {\"tickfont\": {\"color\": \"#C2C2C2\"}, \"title\": \"\", \"showgrid\": true, \"zerolinecolor\": \"#666570\", \"gridcolor\": \"#434343\", \"titlefont\": {\"color\": \"#D9D9D9\"}}, \"width\": 1116, \"titlefont\": {\"color\": \"#D9D9D9\"}, \"legend\": {\"bgcolor\": \"#151516\", \"font\": {\"color\": \"#D9D9D9\"}}}, {\"linkText\": \"Export to plot.ly\", \"showLink\": false})});</script>"
      ],
      "text/plain": [
       "<IPython.core.display.HTML object>"
      ]
     },
     "metadata": {},
     "output_type": "display_data"
    }
   ],
   "source": [
    "try:\n",
    "    10 - missions.groupby('player').count()['episode'].sort_values(ascending=False).iplot(kind='bar', title='Votes cast per Player in {}'.format(LEAGUE.title()))\n",
    "except TypeError:\n",
    "    pass"
   ]
  },
  {
   "cell_type": "markdown",
   "metadata": {
    "slideshow": {
     "slide_type": "slide"
    }
   },
   "source": [
    "## Characters"
   ]
  },
  {
   "cell_type": "code",
   "execution_count": 74,
   "metadata": {
    "collapsed": false,
    "slideshow": {
     "slide_type": "slide"
    }
   },
   "outputs": [
    {
     "data": {
      "text/html": [
       "<div id=\"55ac1a1a-ceeb-4780-88fa-076cf1c8d6c0\" style=\"height: 587; width: 1116px;\" class=\"plotly-graph-div\"></div><script type=\"text/javascript\">require([\"plotly\"], function(Plotly) { window.PLOTLYENV=window.PLOTLYENV || {};window.PLOTLYENV.BASE_URL=\"https://plot.ly\";Plotly.newPlot(\"55ac1a1a-ceeb-4780-88fa-076cf1c8d6c0\", [{\"name\": 0, \"text\": \"\", \"y\": [55, 50, 45, 33, 29, 26, 25, 23, 22, 21, 21, 20, 18, 18, 18, 16, 15, 15, 15, 14, 12, 12, 12, 11, 11, 11, 11, 11, 10, 10, 9, 8, 8, 7, 7, 7, 6, 6, 6, 6], \"marker\": {\"color\": \"rgba(255, 153, 51, 0.6)\", \"line\": {\"color\": \"rgba(255, 153, 51, 1.0)\", \"width\": 1}}, \"x\": [\"daenerystargaryen\", \"tyrionlannister\", \"aryastark\", \"highsparrow\", \"jonsnow\", \"cerseilannister\", \"margaerytyrell\", \"davosseaworth\", \"ramsaybolton\", \"jaimelannister\", \"sansastark\", \"varys\", \"ahko\", \"melisandre\", \"osha\", \"brienneoftarth\", \"jaqenhghar\", \"waif\", \"olennatyrell\", \"hodor\", \"wunwun\", \"daarionaharis\", \"eurongreyjoy\", \"kinvara\", \"gregorclegane\", \"petyrbaelish\", \"nightsking\", \"theongreyjoy\", \"ellariasand\", \"threeeyedraven\", \"tormundgiantsbane\", \"yezzanzoqaggaz\", \"yaragreyjoy\", \"gilly\", \"meerareed\", \"razdalmoeraz\", \"obarasand\", \"waldabolton\", \"bronn\", \"areohotah\"], \"type\": \"bar\", \"orientation\": \"v\"}], {\"title\": \"Top Voted Character in Essos\", \"paper_bgcolor\": \"#151516\", \"plot_bgcolor\": \"#151516\", \"xaxis1\": {\"tickfont\": {\"color\": \"#C2C2C2\"}, \"title\": \"\", \"showgrid\": true, \"zerolinecolor\": \"#666570\", \"gridcolor\": \"#434343\", \"titlefont\": {\"color\": \"#D9D9D9\"}}, \"height\": 587, \"yaxis1\": {\"tickfont\": {\"color\": \"#C2C2C2\"}, \"title\": \"\", \"showgrid\": true, \"zerolinecolor\": \"#666570\", \"gridcolor\": \"#434343\", \"titlefont\": {\"color\": \"#D9D9D9\"}}, \"width\": 1116, \"titlefont\": {\"color\": \"#D9D9D9\"}, \"margin\": {\"r\": 30, \"b\": 120, \"l\": 30, \"t\": 60}, \"legend\": {\"bgcolor\": \"#151516\", \"font\": {\"color\": \"#D9D9D9\"}}}, {\"linkText\": \"Export to plot.ly\", \"showLink\": false})});</script>"
      ],
      "text/plain": [
       "<IPython.core.display.HTML object>"
      ]
     },
     "metadata": {},
     "output_type": "display_data"
    }
   ],
   "source": [
    "# Which Character got the most votes\n",
    "pd.DataFrame(votes.ix[:,votes.columns.str.contains('vote')].unstack().value_counts()[:40]).iplot(\n",
    "    kind='bar',\n",
    "    title='Top Voted Character in {}'.format(LEAGUE.title()),\n",
    "    margin=(30,30,120,60)\n",
    ")"
   ]
  },
  {
   "cell_type": "code",
   "execution_count": 75,
   "metadata": {
    "collapsed": false,
    "slideshow": {
     "slide_type": "slide"
    }
   },
   "outputs": [
    {
     "data": {
      "text/html": [
       "<div id=\"336d333b-1c8d-4392-aa76-af0929a30e1d\" style=\"height: 587; width: 1116px;\" class=\"plotly-graph-div\"></div><script type=\"text/javascript\">require([\"plotly\"], function(Plotly) { window.PLOTLYENV=window.PLOTLYENV || {};window.PLOTLYENV.BASE_URL=\"https://plot.ly\";Plotly.newPlot(\"336d333b-1c8d-4392-aa76-af0929a30e1d\", [{\"name\": 0, \"text\": \"\", \"y\": [6, 5, 5, 5, 4, 4, 4, 4, 4, 4, 4, 4, 4, 4, 3, 3, 3, 3, 2, 2, 2, 2, 1, 1, 1, 1, 1, 1, 1, 1, 1], \"marker\": {\"color\": \"rgba(255, 153, 51, 0.6)\", \"line\": {\"color\": \"rgba(255, 153, 51, 1.0)\", \"width\": 1}}, \"x\": [\"jorahmormont\", \"podrickpayne\", \"missandei\", \"trystanemartell\", \"branstark\", \"qyburn\", \"roosebolton\", \"alliserthorne\", \"bowenmarsh\", \"rickonstark\", \"lotharfrey\", \"macetyrell\", \"bryndentully\", \"tommenbaratheon\", \"izembaro\", \"samwelltarly\", \"greyworm\", \"eddisontollett\", \"myrcellabaratheon\", \"tyenesand\", \"melessatarly\", \"edmuretully\", \"balongreyjoy\", \"lancel\", \"yohnroyce\", \"doranmartell\", \"tallatarly\", \"olly\", \"nymeriasand\", \"lorastyrell\", \"robinarryn\"], \"type\": \"bar\", \"orientation\": \"v\"}], {\"title\": \"Bottom Voted Character in Essos\", \"paper_bgcolor\": \"#151516\", \"plot_bgcolor\": \"#151516\", \"xaxis1\": {\"tickfont\": {\"color\": \"#C2C2C2\"}, \"title\": \"\", \"showgrid\": true, \"zerolinecolor\": \"#666570\", \"gridcolor\": \"#434343\", \"titlefont\": {\"color\": \"#D9D9D9\"}}, \"height\": 587, \"yaxis1\": {\"tickfont\": {\"color\": \"#C2C2C2\"}, \"title\": \"\", \"showgrid\": true, \"zerolinecolor\": \"#666570\", \"gridcolor\": \"#434343\", \"titlefont\": {\"color\": \"#D9D9D9\"}}, \"width\": 1116, \"titlefont\": {\"color\": \"#D9D9D9\"}, \"margin\": {\"r\": 30, \"b\": 120, \"l\": 30, \"t\": 60}, \"legend\": {\"bgcolor\": \"#151516\", \"font\": {\"color\": \"#D9D9D9\"}}}, {\"linkText\": \"Export to plot.ly\", \"showLink\": false})});</script>"
      ],
      "text/plain": [
       "<IPython.core.display.HTML object>"
      ]
     },
     "metadata": {},
     "output_type": "display_data"
    }
   ],
   "source": [
    "# Which Character got the most votes\n",
    "pd.DataFrame(votes.ix[:,votes.columns.str.contains('vote')].unstack().value_counts()[40:]).iplot(\n",
    "    kind='bar',\n",
    "    title='Bottom Voted Character in {}'.format(LEAGUE.title()),\n",
    "    margin=(30,30,120,60)\n",
    ")"
   ]
  },
  {
   "cell_type": "code",
   "execution_count": 76,
   "metadata": {
    "collapsed": false,
    "slideshow": {
     "slide_type": "slide"
    }
   },
   "outputs": [
    {
     "data": {
      "text/html": [
       "<div id=\"b8f058e1-fd1a-4437-876f-1d52d477a221\" style=\"height: 587; width: 1116px;\" class=\"plotly-graph-div\"></div><script type=\"text/javascript\">require([\"plotly\"], function(Plotly) { window.PLOTLYENV=window.PLOTLYENV || {};window.PLOTLYENV.BASE_URL=\"https://plot.ly\";Plotly.newPlot(\"b8f058e1-fd1a-4437-876f-1d52d477a221\", [{\"name\": \"sum\", \"text\": \"\", \"y\": [-1, -1, -1, -1, -1, -1, -1, -1, -1, -1, -1, -1, -1, -1, -1, -1, -1], \"marker\": {\"color\": \"rgba(255, 153, 51, 0.6)\", \"line\": {\"color\": \"rgba(255, 153, 51, 1.0)\", \"width\": 1}}, \"x\": [\"dickontarly\", \"othellyarwyck\", \"walderfrey\", \"kevanlannister\", \"haraldkarstark\", \"smalljonumber\", \"moro\", \"qhono\", \"shae\", \"rhalko\", \"thoros\", \"marei\", \"randylltarly\", \"forzo\", \"unella\", \"pycelle\", \"walderrivers\"], \"type\": \"bar\", \"orientation\": \"v\"}], {\"title\": \"There's always worse.. you could always be a non-voted character\", \"paper_bgcolor\": \"#151516\", \"plot_bgcolor\": \"#151516\", \"xaxis1\": {\"tickfont\": {\"color\": \"#C2C2C2\"}, \"title\": \"\", \"showgrid\": true, \"zerolinecolor\": \"#666570\", \"gridcolor\": \"#434343\", \"titlefont\": {\"color\": \"#D9D9D9\"}}, \"height\": 587, \"yaxis1\": {\"tickfont\": {\"color\": \"#C2C2C2\"}, \"title\": \"\", \"showgrid\": true, \"zerolinecolor\": \"#666570\", \"gridcolor\": \"#434343\", \"titlefont\": {\"color\": \"#D9D9D9\"}}, \"width\": 1116, \"titlefont\": {\"color\": \"#D9D9D9\"}, \"legend\": {\"bgcolor\": \"#151516\", \"font\": {\"color\": \"#D9D9D9\"}}}, {\"linkText\": \"Export to plot.ly\", \"showLink\": false})});</script>"
      ],
      "text/plain": [
       "<IPython.core.display.HTML object>"
      ]
     },
     "metadata": {},
     "output_type": "display_data"
    }
   ],
   "source": [
    "missing_votes = pd.DataFrame(list(set(characters.id).difference(votes.ix[:,votes.columns.str.contains('vote')].unstack().value_counts().index)))\n",
    "missing_votes['sum'] = -1\n",
    "missing_votes = missing_votes.set_index(0)\n",
    "missing_votes.iplot(kind='bar',\n",
    "    title='There\\'s always worse.. you could always be a non-voted character')"
   ]
  },
  {
   "cell_type": "code",
   "execution_count": 77,
   "metadata": {
    "collapsed": false,
    "slideshow": {
     "slide_type": "skip"
    }
   },
   "outputs": [],
   "source": [
    "import numpy as np\n",
    "\n",
    "comp_votes = pd.merge(pd.DataFrame(votes.ix[:,votes.columns.str.contains('vote')].stack().value_counts(),columns=[LEAGUE]),\n",
    "    pd.DataFrame(votes_global.ix[:,votes_global.columns.str.contains('vote')].stack().value_counts(),columns=['All']), how='outer',left_index=True,right_index=True).fillna(0).astype(int)\n",
    "\n",
    "baseline = comp_votes[LEAGUE] / (comp_votes.All - comp_votes[LEAGUE])\n",
    "portion = comp_votes[LEAGUE].sum() / (comp_votes.All.sum() - comp_votes[LEAGUE].sum())\n",
    "baseline = baseline / portion\n",
    "baseline[baseline == np.inf] = 10\n",
    "ratio = pd.DataFrame(baseline,columns=['ratio']).sort_values('ratio', ascending=False)"
   ]
  },
  {
   "cell_type": "code",
   "execution_count": 78,
   "metadata": {
    "collapsed": false,
    "slideshow": {
     "slide_type": "slide"
    }
   },
   "outputs": [
    {
     "data": {
      "text/html": [
       "<div id=\"5abfbc93-3dbd-4d25-a4e2-387020c5eb4d\" style=\"height: 587; width: 1116px;\" class=\"plotly-graph-div\"></div><script type=\"text/javascript\">require([\"plotly\"], function(Plotly) { window.PLOTLYENV=window.PLOTLYENV || {};window.PLOTLYENV.BASE_URL=\"https://plot.ly\";Plotly.newPlot(\"5abfbc93-3dbd-4d25-a4e2-387020c5eb4d\", [{\"name\": \"ratio\", \"text\": \"\", \"y\": [12.857142857142858, 10.0, 5.7142857142857135, 3.2142857142857144, 2.8571428571428568, 2.7551020408163267, 2.142857142857143, 2.142857142857143, 1.875, 1.8131868131868132, 1.7857142857142858, 1.7532467532467533, 1.7142857142857144, 1.683673469387755, 1.6770186335403727, 1.6071428571428572, 1.6071428571428572, 1.5535714285714286, 1.530612244897959, 1.512605042016807, 1.5045592705167172, 1.4999999999999998, 1.4285714285714284, 1.4285714285714284, 1.3975155279503106, 1.3392857142857142, 1.2857142857142856, 1.2741312741312742, 1.0932944606413995, 1.0714285714285714, 1.0714285714285714, 1.0714285714285714, 1.0714285714285714, 1.0129870129870129], \"marker\": {\"color\": \"rgba(0, 128, 0, 0.6)\", \"line\": {\"color\": \"rgba(0, 128, 0, 1.0)\", \"width\": 1}}, \"x\": [\"osha\", \"nymeriasand\", \"yezzanzoqaggaz\", \"waldabolton\", \"rickonstark\", \"ahko\", \"trystanemartell\", \"areohotah\", \"razdalmoeraz\", \"nightsking\", \"tyrionlannister\", \"aryastark\", \"varys\", \"kinvara\", \"melisandre\", \"obarasand\", \"eurongreyjoy\", \"jonsnow\", \"daenerystargaryen\", \"daarionaharis\", \"highsparrow\", \"meerareed\", \"lotharfrey\", \"bowenmarsh\", \"waif\", \"jaqenhghar\", \"izembaro\", \"ramsaybolton\", \"margaerytyrell\", \"tormundgiantsbane\", \"wunwun\", \"threeeyedraven\", \"eddisontollett\", \"cerseilannister\"], \"type\": \"bar\", \"orientation\": \"v\"}], {\"title\": \"Overrepresented Characters in Essos Votes\", \"paper_bgcolor\": \"#151516\", \"plot_bgcolor\": \"#151516\", \"xaxis1\": {\"tickfont\": {\"color\": \"#C2C2C2\"}, \"title\": \"\", \"showgrid\": true, \"zerolinecolor\": \"#666570\", \"gridcolor\": \"#434343\", \"titlefont\": {\"color\": \"#D9D9D9\"}}, \"height\": 587, \"yaxis1\": {\"tickfont\": {\"color\": \"#C2C2C2\"}, \"title\": \"\", \"showgrid\": true, \"zerolinecolor\": \"#666570\", \"gridcolor\": \"#434343\", \"titlefont\": {\"color\": \"#D9D9D9\"}}, \"width\": 1116, \"titlefont\": {\"color\": \"#D9D9D9\"}, \"margin\": {\"r\": 30, \"b\": 120, \"l\": 30, \"t\": 60}, \"legend\": {\"bgcolor\": \"#151516\", \"font\": {\"color\": \"#D9D9D9\"}}}, {\"linkText\": \"Export to plot.ly\", \"showLink\": false})});</script>"
      ],
      "text/plain": [
       "<IPython.core.display.HTML object>"
      ]
     },
     "metadata": {},
     "output_type": "display_data"
    }
   ],
   "source": [
    "ratio[ratio.ratio > 1].iplot(kind='bar',\n",
    "                             color='green',\n",
    "                            title='Overrepresented Characters in {} Votes'.format(LEAGUE.title()),\n",
    "                            margin=(30,30,120,60))"
   ]
  },
  {
   "cell_type": "code",
   "execution_count": 79,
   "metadata": {
    "collapsed": false,
    "slideshow": {
     "slide_type": "slide"
    }
   },
   "outputs": [
    {
     "data": {
      "text/html": [
       "<div id=\"aa734090-ef1a-438d-bb2e-08cdc3ed4536\" style=\"height: 587; width: 1116px;\" class=\"plotly-graph-div\"></div><script type=\"text/javascript\">require([\"plotly\"], function(Plotly) { window.PLOTLYENV=window.PLOTLYENV || {};window.PLOTLYENV.BASE_URL=\"https://plot.ly\";Plotly.newPlot(\"aa734090-ef1a-438d-bb2e-08cdc3ed4536\", [{\"name\": \"ratio\", \"text\": \"\", \"y\": [0.9663865546218487, 0.9523809523809523, 0.9183673469387754, 0.8571428571428572, 0.8241758241758242, 0.7894736842105262, 0.7894736842105262, 0.7857142857142857, 0.7142857142857142, 0.7142857142857142, 0.6997084548104956, 0.6987577639751553, 0.673469387755102, 0.6593406593406593, 0.6122448979591836, 0.6122448979591836, 0.6122448979591836, 0.5844155844155844, 0.5639097744360901, 0.5481727574750831, 0.5357142857142857, 0.5226480836236933, 0.47619047619047616, 0.47619047619047616, 0.4285714285714286, 0.4081632653061224, 0.38961038961038963, 0.3571428571428571, 0.3061224489795918, 0.3061224489795918, 0.26785714285714285, 0.2597402597402597, 0.24725274725274726, 0.23809523809523808, 0.19480519480519481, 0.17857142857142855, 0.14285714285714285, 0.0, 0.0, 0.0, 0.0, 0.0, 0.0, 0.0, 0.0, 0.0, 0.0, 0.0, 0.0, 0.0, 0.0, 0.0], \"marker\": {\"color\": \"rgba(219, 64, 82, 0.6)\", \"line\": {\"color\": \"rgba(219, 64, 82, 1.0)\", \"width\": 1}}, \"x\": [\"davosseaworth\", \"bryndentully\", \"samwelltarly\", \"yaragreyjoy\", \"podrickpayne\", \"jaimelannister\", \"sansastark\", \"theongreyjoy\", \"gilly\", \"hodor\", \"brienneoftarth\", \"olennatyrell\", \"gregorclegane\", \"roosebolton\", \"bronn\", \"myrcellabaratheon\", \"melessatarly\", \"jorahmormont\", \"missandei\", \"petyrbaelish\", \"lancel\", \"ellariasand\", \"alliserthorne\", \"macetyrell\", \"tommenbaratheon\", \"qyburn\", \"edmuretully\", \"tallatarly\", \"tyenesand\", \"lorastyrell\", \"balongreyjoy\", \"branstark\", \"greyworm\", \"olly\", \"robinarryn\", \"yohnroyce\", \"doranmartell\", \"thoros\", \"smalljonumber\", \"shae\", \"rhalko\", \"randylltarly\", \"qhono\", \"pycelle\", \"unella\", \"othellyarwyck\", \"marei\", \"kevanlannister\", \"walderfrey\", \"haraldkarstark\", \"forzo\", \"moro\"], \"type\": \"bar\", \"orientation\": \"v\"}], {\"title\": \"Underrepresented Characters in Essos Votes\", \"paper_bgcolor\": \"#151516\", \"plot_bgcolor\": \"#151516\", \"xaxis1\": {\"tickfont\": {\"color\": \"#C2C2C2\"}, \"title\": \"\", \"showgrid\": true, \"zerolinecolor\": \"#666570\", \"gridcolor\": \"#434343\", \"titlefont\": {\"color\": \"#D9D9D9\"}}, \"height\": 587, \"yaxis1\": {\"tickfont\": {\"color\": \"#C2C2C2\"}, \"title\": \"\", \"showgrid\": true, \"zerolinecolor\": \"#666570\", \"gridcolor\": \"#434343\", \"titlefont\": {\"color\": \"#D9D9D9\"}}, \"width\": 1116, \"titlefont\": {\"color\": \"#D9D9D9\"}, \"margin\": {\"r\": 30, \"b\": 120, \"l\": 30, \"t\": 60}, \"legend\": {\"bgcolor\": \"#151516\", \"font\": {\"color\": \"#D9D9D9\"}}}, {\"linkText\": \"Export to plot.ly\", \"showLink\": false})});</script>"
      ],
      "text/plain": [
       "<IPython.core.display.HTML object>"
      ]
     },
     "metadata": {},
     "output_type": "display_data"
    }
   ],
   "source": [
    "ratio[ratio.ratio <= 1].iplot(kind='bar',\n",
    "                             color='red',\n",
    "                            title='Underrepresented Characters in {} Votes'.format(LEAGUE.title()),\n",
    "                             margin=(30,30,120,60))"
   ]
  },
  {
   "cell_type": "code",
   "execution_count": 80,
   "metadata": {
    "collapsed": false,
    "slideshow": {
     "slide_type": "slide"
    }
   },
   "outputs": [
    {
     "data": {
      "text/html": [
       "<div id=\"5f975a1c-c702-48f1-860d-1f162771ca2e\" style=\"height: 587; width: 1116px;\" class=\"plotly-graph-div\"></div><script type=\"text/javascript\">require([\"plotly\"], function(Plotly) { window.PLOTLYENV=window.PLOTLYENV || {};window.PLOTLYENV.BASE_URL=\"https://plot.ly\";Plotly.newPlot(\"5f975a1c-c702-48f1-860d-1f162771ca2e\", [{\"name\": 0, \"text\": \"\", \"y\": [132, 110, 100, 81, 80, 78, 78, 74, 74, 69, 65, 61, 59, 56, 54, 51, 46, 45, 41, 41, 39, 38, 37, 36, 32, 30, 29, 29, 28, 28, 28, 28, 27, 27, 25, 25, 24, 24, 24, 22], \"marker\": {\"color\": \"rgba(255, 153, 51, 0.6)\", \"line\": {\"color\": \"rgba(255, 153, 51, 1.0)\", \"width\": 1}}, \"x\": [\"daenerystargaryen\", \"tyrionlannister\", \"aryastark\", \"cerseilannister\", \"highsparrow\", \"sansastark\", \"jaimelannister\", \"davosseaworth\", \"margaerytyrell\", \"jonsnow\", \"brienneoftarth\", \"olennatyrell\", \"ramsaybolton\", \"hodor\", \"petyrbaelish\", \"ellariasand\", \"gregorclegane\", \"varys\", \"melisandre\", \"theongreyjoy\", \"jaqenhghar\", \"waif\", \"branstark\", \"wunwun\", \"ahko\", \"threeeyedraven\", \"daarionaharis\", \"greyworm\", \"eurongreyjoy\", \"jorahmormont\", \"gilly\", \"yaragreyjoy\", \"bronn\", \"tormundgiantsbane\", \"kinvara\", \"qyburn\", \"missandei\", \"nightsking\", \"tommenbaratheon\", \"macetyrell\"], \"type\": \"bar\", \"orientation\": \"v\"}], {\"title\": \"Top Voted Character across all Leagues\", \"paper_bgcolor\": \"#151516\", \"plot_bgcolor\": \"#151516\", \"xaxis1\": {\"tickfont\": {\"color\": \"#C2C2C2\"}, \"title\": \"\", \"showgrid\": true, \"zerolinecolor\": \"#666570\", \"gridcolor\": \"#434343\", \"titlefont\": {\"color\": \"#D9D9D9\"}}, \"height\": 587, \"yaxis1\": {\"tickfont\": {\"color\": \"#C2C2C2\"}, \"title\": \"\", \"showgrid\": true, \"zerolinecolor\": \"#666570\", \"gridcolor\": \"#434343\", \"titlefont\": {\"color\": \"#D9D9D9\"}}, \"width\": 1116, \"titlefont\": {\"color\": \"#D9D9D9\"}, \"margin\": {\"r\": 30, \"b\": 120, \"l\": 30, \"t\": 60}, \"legend\": {\"bgcolor\": \"#151516\", \"font\": {\"color\": \"#D9D9D9\"}}}, {\"linkText\": \"Export to plot.ly\", \"showLink\": false})});</script>"
      ],
      "text/plain": [
       "<IPython.core.display.HTML object>"
      ]
     },
     "metadata": {},
     "output_type": "display_data"
    }
   ],
   "source": [
    "# Which Character got the most votes\n",
    "pd.DataFrame(votes_global.ix[:,votes_global.columns.str.contains('vote')].stack().value_counts()[:40]).iplot(\n",
    "    kind='bar',\n",
    "    title='Top Voted Character across all Leagues',\n",
    "    margin=(30,30,120,60)\n",
    ")"
   ]
  },
  {
   "cell_type": "code",
   "execution_count": 81,
   "metadata": {
    "collapsed": false,
    "slideshow": {
     "slide_type": "skip"
    }
   },
   "outputs": [],
   "source": [
    "points = defaultdict(int)\n",
    "for col in votes.ix[:,votes.columns.str.contains('vote')]:\n",
    "    if '1' in col:\n",
    "        for char in votes[col]:\n",
    "            points[char] += 20\n",
    "    if '2' in col:\n",
    "        for char in votes[col]:\n",
    "            points[char] += 8\n",
    "scored_points = pd.DataFrame(dict(points).values(), index=dict(points).keys(), columns=['points']).sort_values('points',ascending=False)\n",
    "char_lookup = characters.set_index('id')\n",
    "\n",
    "scored_points = scored_points.join(char_lookup)\n",
    "scored_points['adjusted_points'] = scored_points.points * (6 - scored_points.prominence)\n",
    "scored_points = scored_points.sort_values('adjusted_points',ascending=False)"
   ]
  },
  {
   "cell_type": "code",
   "execution_count": 82,
   "metadata": {
    "collapsed": false,
    "slideshow": {
     "slide_type": "slide"
    }
   },
   "outputs": [
    {
     "data": {
      "text/html": [
       "<div id=\"8cb8570c-ba12-4d75-8321-72b68b48e02d\" style=\"height: 587; width: 1116px;\" class=\"plotly-graph-div\"></div><script type=\"text/javascript\">require([\"plotly\"], function(Plotly) { window.PLOTLYENV=window.PLOTLYENV || {};window.PLOTLYENV.BASE_URL=\"https://plot.ly\";Plotly.newPlot(\"8cb8570c-ba12-4d75-8321-72b68b48e02d\", [{\"name\": \"adjusted_points\", \"text\": \"\", \"y\": [1200, 1152, 1008, 984, 960, 920, 804, 776, 760, 736, 680, 648, 640, 640, 640, 592, 552, 540, 528, 456, 432, 424, 384, 360, 348, 348, 340, 340, 328, 320, 320, 316, 300, 296, 288, 272, 264, 252, 240, 228], \"marker\": {\"color\": \"rgba(255, 153, 51, 0.6)\", \"line\": {\"color\": \"rgba(255, 153, 51, 1.0)\", \"width\": 1}}, \"x\": [\"aryastark\", \"osha\", \"ahko\", \"highsparrow\", \"wunwun\", \"kinvara\", \"hodor\", \"daenerystargaryen\", \"margaerytyrell\", \"gregorclegane\", \"davosseaworth\", \"waif\", \"razdalmoeraz\", \"ramsaybolton\", \"tyrionlannister\", \"yezzanzoqaggaz\", \"melisandre\", \"waldabolton\", \"eurongreyjoy\", \"jaimelannister\", \"jaqenhghar\", \"brienneoftarth\", \"olennatyrell\", \"daarionaharis\", \"threeeyedraven\", \"gilly\", \"cerseilannister\", \"jonsnow\", \"ellariasand\", \"qyburn\", \"meerareed\", \"varys\", \"yaragreyjoy\", \"theongreyjoy\", \"sansastark\", \"bryndentully\", \"tormundgiantsbane\", \"bronn\", \"areohotah\", \"podrickpayne\"], \"type\": \"bar\", \"orientation\": \"v\"}], {\"title\": \"Top Scoring Characters in Essos\", \"paper_bgcolor\": \"#151516\", \"plot_bgcolor\": \"#151516\", \"xaxis1\": {\"tickfont\": {\"color\": \"#C2C2C2\"}, \"title\": \"\", \"showgrid\": true, \"zerolinecolor\": \"#666570\", \"gridcolor\": \"#434343\", \"titlefont\": {\"color\": \"#D9D9D9\"}}, \"height\": 587, \"yaxis1\": {\"tickfont\": {\"color\": \"#C2C2C2\"}, \"title\": \"\", \"showgrid\": true, \"zerolinecolor\": \"#666570\", \"gridcolor\": \"#434343\", \"titlefont\": {\"color\": \"#D9D9D9\"}}, \"width\": 1116, \"titlefont\": {\"color\": \"#D9D9D9\"}, \"margin\": {\"r\": 30, \"b\": 120, \"l\": 30, \"t\": 60}, \"legend\": {\"bgcolor\": \"#151516\", \"font\": {\"color\": \"#D9D9D9\"}}}, {\"linkText\": \"Export to plot.ly\", \"showLink\": false})});</script>"
      ],
      "text/plain": [
       "<IPython.core.display.HTML object>"
      ]
     },
     "metadata": {},
     "output_type": "display_data"
    }
   ],
   "source": [
    "# Which Character got the most votes\n",
    "pd.DataFrame(scored_points.ix[:,'adjusted_points'][:40]).iplot(\n",
    "    kind='bar',\n",
    "    title='Top Scoring Characters in {}'.format(LEAGUE.title()),\n",
    "    margin=(30,30,120,60)\n",
    ")"
   ]
  },
  {
   "cell_type": "code",
   "execution_count": 83,
   "metadata": {
    "collapsed": false,
    "slideshow": {
     "slide_type": "slide"
    }
   },
   "outputs": [
    {
     "data": {
      "text/html": [
       "<div id=\"4dd2c5a2-1ef6-4598-a85a-efa469580a9c\" style=\"height: 587; width: 1116px;\" class=\"plotly-graph-div\"></div><script type=\"text/javascript\">require([\"plotly\"], function(Plotly) { window.PLOTLYENV=window.PLOTLYENV || {};window.PLOTLYENV.BASE_URL=\"https://plot.ly\";Plotly.newPlot(\"4dd2c5a2-1ef6-4598-a85a-efa469580a9c\", [{\"name\": \"adjusted_points\", \"text\": \"\", \"y\": [224, 224, 220, 200, 200, 192, 192, 180, 176, 168, 160, 160, 160, 160, 124, 112, 108, 96, 80, 72, 64, 64, 60, 60, 60, 48, 40, 32, 32, 24, 24], \"marker\": {\"color\": \"rgba(255, 153, 51, 0.6)\", \"line\": {\"color\": \"rgba(255, 153, 51, 1.0)\", \"width\": 1}}, \"x\": [\"bowenmarsh\", \"macetyrell\", \"lotharfrey\", \"edmuretully\", \"melessatarly\", \"missandei\", \"izembaro\", \"obarasand\", \"rickonstark\", \"roosebolton\", \"trystanemartell\", \"tommenbaratheon\", \"petyrbaelish\", \"myrcellabaratheon\", \"nightsking\", \"branstark\", \"eddisontollett\", \"jorahmormont\", \"lancel\", \"samwelltarly\", \"alliserthorne\", \"tyenesand\", \"nymeriasand\", \"doranmartell\", \"balongreyjoy\", \"greyworm\", \"tallatarly\", \"yohnroyce\", \"robinarryn\", \"olly\", \"lorastyrell\"], \"type\": \"bar\", \"orientation\": \"v\"}], {\"title\": \"Bottom Scoring Characters in Essos\", \"paper_bgcolor\": \"#151516\", \"plot_bgcolor\": \"#151516\", \"xaxis1\": {\"tickfont\": {\"color\": \"#C2C2C2\"}, \"title\": \"\", \"showgrid\": true, \"zerolinecolor\": \"#666570\", \"gridcolor\": \"#434343\", \"titlefont\": {\"color\": \"#D9D9D9\"}}, \"height\": 587, \"yaxis1\": {\"tickfont\": {\"color\": \"#C2C2C2\"}, \"title\": \"\", \"showgrid\": true, \"zerolinecolor\": \"#666570\", \"gridcolor\": \"#434343\", \"titlefont\": {\"color\": \"#D9D9D9\"}}, \"width\": 1116, \"titlefont\": {\"color\": \"#D9D9D9\"}, \"margin\": {\"r\": 30, \"b\": 120, \"l\": 30, \"t\": 60}, \"legend\": {\"bgcolor\": \"#151516\", \"font\": {\"color\": \"#D9D9D9\"}}}, {\"linkText\": \"Export to plot.ly\", \"showLink\": false})});</script>"
      ],
      "text/plain": [
       "<IPython.core.display.HTML object>"
      ]
     },
     "metadata": {},
     "output_type": "display_data"
    }
   ],
   "source": [
    "pd.DataFrame(scored_points.ix[:,'adjusted_points'][40:]).iplot(\n",
    "    kind='bar',\n",
    "    title='Bottom Scoring Characters in {}'.format(LEAGUE.title()),\n",
    "    margin=(30,30,120,60)\n",
    ")"
   ]
  },
  {
   "cell_type": "code",
   "execution_count": 84,
   "metadata": {
    "collapsed": false,
    "slideshow": {
     "slide_type": "slide"
    }
   },
   "outputs": [
    {
     "data": {
      "text/html": [
       "<div id=\"a81c2436-690b-4a9f-bb09-5e4a26b60eb7\" style=\"height: 587; width: 1116px;\" class=\"plotly-graph-div\"></div><script type=\"text/javascript\">require([\"plotly\"], function(Plotly) { window.PLOTLYENV=window.PLOTLYENV || {};window.PLOTLYENV.BASE_URL=\"https://plot.ly\";Plotly.newPlot(\"a81c2436-690b-4a9f-bb09-5e4a26b60eb7\", [{\"name\": \"points\", \"text\": \"\", \"y\": [744, 1628, 1268, 4156, 2984], \"marker\": {\"color\": \"rgba(255, 153, 51, 0.6)\", \"line\": {\"color\": \"rgba(255, 153, 51, 1.0)\", \"width\": 1}}, \"x\": [1, 2, 3, 4, 5], \"type\": \"bar\", \"orientation\": \"v\"}, {\"name\": \"adjusted_points\", \"text\": \"\", \"y\": [3720, 6512, 3804, 8312, 2984], \"marker\": {\"color\": \"rgba(55, 128, 191, 0.6)\", \"line\": {\"color\": \"rgba(55, 128, 191, 1.0)\", \"width\": 1}}, \"x\": [1, 2, 3, 4, 5], \"type\": \"bar\", \"orientation\": \"v\"}], {\"title\": \"Total Points Awarded per Prominence Level in essos\", \"paper_bgcolor\": \"#151516\", \"plot_bgcolor\": \"#151516\", \"xaxis1\": {\"tickfont\": {\"color\": \"#C2C2C2\"}, \"title\": \"Prominence Level\", \"showgrid\": true, \"zerolinecolor\": \"#666570\", \"gridcolor\": \"#434343\", \"titlefont\": {\"color\": \"#D9D9D9\"}}, \"height\": 587, \"yaxis1\": {\"tickfont\": {\"color\": \"#C2C2C2\"}, \"title\": \"\", \"showgrid\": true, \"zerolinecolor\": \"#666570\", \"gridcolor\": \"#434343\", \"titlefont\": {\"color\": \"#D9D9D9\"}}, \"width\": 1116, \"titlefont\": {\"color\": \"#D9D9D9\"}, \"legend\": {\"bgcolor\": \"#151516\", \"font\": {\"color\": \"#D9D9D9\"}}}, {\"linkText\": \"Export to plot.ly\", \"showLink\": false})});</script>"
      ],
      "text/plain": [
       "<IPython.core.display.HTML object>"
      ]
     },
     "metadata": {},
     "output_type": "display_data"
    }
   ],
   "source": [
    "scored_points.groupby('prominence').sum()[['points','adjusted_points']].iplot(\n",
    "    kind='bar',\n",
    "    title='Total Points Awarded per Prominence Level in {}'.format(LEAGUE),\n",
    "    xTitle='Prominence Level')"
   ]
  },
  {
   "cell_type": "code",
   "execution_count": 85,
   "metadata": {
    "collapsed": false,
    "slideshow": {
     "slide_type": "slide"
    }
   },
   "outputs": [
    {
     "data": {
      "text/html": [
       "<div id=\"3813173c-b56f-4dd2-a415-6e292ad127ae\" style=\"height: 587; width: 1116px;\" class=\"plotly-graph-div\"></div><script type=\"text/javascript\">require([\"plotly\"], function(Plotly) { window.PLOTLYENV=window.PLOTLYENV || {};window.PLOTLYENV.BASE_URL=\"https://plot.ly\";Plotly.newPlot(\"3813173c-b56f-4dd2-a415-6e292ad127ae\", [{\"name\": \"points\", \"text\": \"\", \"y\": [1816, 1232, 1480, 1280, 4972], \"marker\": {\"color\": \"rgba(255, 153, 51, 0.6)\", \"line\": {\"color\": \"rgba(255, 153, 51, 1.0)\", \"width\": 1}}, \"x\": [1, 2, 3, 4, 5], \"type\": \"bar\", \"orientation\": \"v\"}, {\"name\": \"adjusted_points\", \"text\": \"\", \"y\": [6524, 4112, 3764, 3068, 7864], \"marker\": {\"color\": \"rgba(55, 128, 191, 0.6)\", \"line\": {\"color\": \"rgba(55, 128, 191, 1.0)\", \"width\": 1}}, \"x\": [1, 2, 3, 4, 5], \"type\": \"bar\", \"orientation\": \"v\"}], {\"title\": \"Total Points Awarded per Diplomatic Level in essos\", \"paper_bgcolor\": \"#151516\", \"plot_bgcolor\": \"#151516\", \"xaxis1\": {\"tickfont\": {\"color\": \"#C2C2C2\"}, \"title\": \"Diplomacy Level\", \"showgrid\": true, \"zerolinecolor\": \"#666570\", \"gridcolor\": \"#434343\", \"titlefont\": {\"color\": \"#D9D9D9\"}}, \"height\": 587, \"yaxis1\": {\"tickfont\": {\"color\": \"#C2C2C2\"}, \"title\": \"\", \"showgrid\": true, \"zerolinecolor\": \"#666570\", \"gridcolor\": \"#434343\", \"titlefont\": {\"color\": \"#D9D9D9\"}}, \"width\": 1116, \"titlefont\": {\"color\": \"#D9D9D9\"}, \"legend\": {\"bgcolor\": \"#151516\", \"font\": {\"color\": \"#D9D9D9\"}}}, {\"linkText\": \"Export to plot.ly\", \"showLink\": false})});</script>"
      ],
      "text/plain": [
       "<IPython.core.display.HTML object>"
      ]
     },
     "metadata": {},
     "output_type": "display_data"
    }
   ],
   "source": [
    "scored_points.groupby('diplomacy').sum()[['points','adjusted_points']].iplot(\n",
    "    kind='bar',\n",
    "    title='Total Points Awarded per Diplomatic Level in {}'.format(LEAGUE),\n",
    "    xTitle='Diplomacy Level')"
   ]
  },
  {
   "cell_type": "code",
   "execution_count": 86,
   "metadata": {
    "collapsed": false,
    "slideshow": {
     "slide_type": "slide"
    }
   },
   "outputs": [
    {
     "data": {
      "text/html": [
       "<div id=\"ea7b4434-d02d-4168-807f-5c9cb0b3d0d2\" style=\"height: 587; width: 1116px;\" class=\"plotly-graph-div\"></div><script type=\"text/javascript\">require([\"plotly\"], function(Plotly) { window.PLOTLYENV=window.PLOTLYENV || {};window.PLOTLYENV.BASE_URL=\"https://plot.ly\";Plotly.newPlot(\"ea7b4434-d02d-4168-807f-5c9cb0b3d0d2\", [{\"name\": \"points\", \"text\": \"\", \"y\": [612, 940, 1724, 2392, 5112], \"marker\": {\"color\": \"rgba(255, 153, 51, 0.6)\", \"line\": {\"color\": \"rgba(255, 153, 51, 1.0)\", \"width\": 1}}, \"x\": [1, 2, 3, 4, 5], \"type\": \"bar\", \"orientation\": \"v\"}, {\"name\": \"adjusted_points\", \"text\": \"\", \"y\": [1972, 2524, 4548, 7336, 8952], \"marker\": {\"color\": \"rgba(55, 128, 191, 0.6)\", \"line\": {\"color\": \"rgba(55, 128, 191, 1.0)\", \"width\": 1}}, \"x\": [1, 2, 3, 4, 5], \"type\": \"bar\", \"orientation\": \"v\"}], {\"title\": \"Total Points Awarded per Violence Level in essos\", \"paper_bgcolor\": \"#151516\", \"plot_bgcolor\": \"#151516\", \"xaxis1\": {\"tickfont\": {\"color\": \"#C2C2C2\"}, \"title\": \"Violence Level\", \"showgrid\": true, \"zerolinecolor\": \"#666570\", \"gridcolor\": \"#434343\", \"titlefont\": {\"color\": \"#D9D9D9\"}}, \"height\": 587, \"yaxis1\": {\"tickfont\": {\"color\": \"#C2C2C2\"}, \"title\": \"\", \"showgrid\": true, \"zerolinecolor\": \"#666570\", \"gridcolor\": \"#434343\", \"titlefont\": {\"color\": \"#D9D9D9\"}}, \"width\": 1116, \"titlefont\": {\"color\": \"#D9D9D9\"}, \"legend\": {\"bgcolor\": \"#151516\", \"font\": {\"color\": \"#D9D9D9\"}}}, {\"linkText\": \"Export to plot.ly\", \"showLink\": false})});</script>"
      ],
      "text/plain": [
       "<IPython.core.display.HTML object>"
      ]
     },
     "metadata": {},
     "output_type": "display_data"
    }
   ],
   "source": [
    "scored_points.groupby('violence').sum()[['points','adjusted_points']].iplot(\n",
    "    kind='bar',\n",
    "    title='Total Points Awarded per Violence Level in {}'.format(LEAGUE),\n",
    "    xTitle='Violence Level')"
   ]
  },
  {
   "cell_type": "code",
   "execution_count": 87,
   "metadata": {
    "collapsed": false,
    "slideshow": {
     "slide_type": "slide"
    }
   },
   "outputs": [
    {
     "data": {
      "text/html": [
       "<div id=\"931a3dea-2316-4e73-90ac-a9111fa67bc3\" style=\"height: 587; width: 1116px;\" class=\"plotly-graph-div\"></div><script type=\"text/javascript\">require([\"plotly\"], function(Plotly) { window.PLOTLYENV=window.PLOTLYENV || {};window.PLOTLYENV.BASE_URL=\"https://plot.ly\";Plotly.newPlot(\"931a3dea-2316-4e73-90ac-a9111fa67bc3\", [{\"name\": \"votes\", \"text\": \"\", \"y\": [42, 37, 30, 25, 23, 12, 9, 7, 7, 5, 1], \"marker\": {\"color\": \"rgba(255, 153, 51, 0.6)\", \"line\": {\"color\": \"rgba(255, 153, 51, 1.0)\", \"width\": 1}}, \"x\": [\"Krystyna\", \"Lance\", \"Lucia\", \"Alissa\", \"James\", \"Denis\", \"Adrien\", \"Kai\", \"Patti\", \"Kristin\", \"Michelle\"], \"type\": \"bar\", \"orientation\": \"v\"}], {\"title\": \"Votes casted for own Characters in Essos\", \"paper_bgcolor\": \"#151516\", \"plot_bgcolor\": \"#151516\", \"xaxis1\": {\"tickfont\": {\"color\": \"#C2C2C2\"}, \"title\": \"\", \"showgrid\": true, \"zerolinecolor\": \"#666570\", \"gridcolor\": \"#434343\", \"titlefont\": {\"color\": \"#D9D9D9\"}}, \"height\": 587, \"yaxis1\": {\"tickfont\": {\"color\": \"#C2C2C2\"}, \"title\": \"\", \"showgrid\": true, \"zerolinecolor\": \"#666570\", \"gridcolor\": \"#434343\", \"titlefont\": {\"color\": \"#D9D9D9\"}}, \"width\": 1116, \"titlefont\": {\"color\": \"#D9D9D9\"}, \"legend\": {\"bgcolor\": \"#151516\", \"font\": {\"color\": \"#D9D9D9\"}}}, {\"linkText\": \"Export to plot.ly\", \"showLink\": false})});</script>"
      ],
      "text/plain": [
       "<IPython.core.display.HTML object>"
      ]
     },
     "metadata": {},
     "output_type": "display_data"
    }
   ],
   "source": [
    "auto_votes = defaultdict(int)\n",
    "for player_name, idx in votes.groupby('player'):\n",
    "    h = player_houses_map[LEAGUE][player_name]\n",
    "#     print game_rosters[h][game_rosters[h].notnull()].keys().tolist()\n",
    "    r = game_rosters[h][game_rosters[h].notnull()].keys().tolist()\n",
    "    for char, count in idx.ix[:,votes.columns.str.contains('vote')].unstack().value_counts()[:40].iteritems():\n",
    "        if char in r:\n",
    "            auto_votes[player_name] += count\n",
    "#     auto_votes[h]\n",
    "# pd.DataFrame(votes)\n",
    "pd.DataFrame(dict(auto_votes).values(), index=dict(auto_votes).keys(),columns=['votes']).sort_values('votes',ascending=False).iplot(\n",
    "    kind='bar',\n",
    "    title='Votes casted for own Characters in {}'.format(LEAGUE.title())\n",
    ")"
   ]
  },
  {
   "cell_type": "code",
   "execution_count": 88,
   "metadata": {
    "collapsed": true,
    "slideshow": {
     "slide_type": "skip"
    }
   },
   "outputs": [],
   "source": [
    "awards = {}\n",
    "for award in ['damage','wit','jockey','support','style']:\n",
    "    award_votes = votes.ix[:, votes.columns.str.contains(award)]\n",
    "    \n",
    "    award_points = defaultdict(int)\n",
    "\n",
    "    for col in award_votes:\n",
    "        if '1' in col:\n",
    "            for char in votes[col]:\n",
    "                award_points[char] += 20\n",
    "        if '2' in col:\n",
    "            for char in votes[col]:\n",
    "                award_points[char] += 8\n",
    "\n",
    "    scored_points = pd.DataFrame(dict(award_points).values(), index=dict(award_points).keys(), columns=['points']).sort_values('points',ascending=False)\n",
    "    char_lookup = characters.set_index('id')\n",
    "\n",
    "    scored_points = scored_points.join(char_lookup)\n",
    "    scored_points['adjusted_points'] = scored_points.points * (6 - scored_points.prominence)\n",
    "    scored_points = scored_points.sort_values('adjusted_points',ascending=False)\n",
    "    awards[award] = scored_points['adjusted_points']"
   ]
  },
  {
   "cell_type": "code",
   "execution_count": 89,
   "metadata": {
    "collapsed": false,
    "slideshow": {
     "slide_type": "slide"
    }
   },
   "outputs": [
    {
     "data": {
      "text/html": [
       "<div id=\"30af604e-5a6d-4f46-83c6-40f257bbd67d\" style=\"height: 587; width: 1116px;\" class=\"plotly-graph-div\"></div><script type=\"text/javascript\">require([\"plotly\"], function(Plotly) { window.PLOTLYENV=window.PLOTLYENV || {};window.PLOTLYENV.BASE_URL=\"https://plot.ly\";Plotly.newPlot(\"30af604e-5a6d-4f46-83c6-40f257bbd67d\", [{\"name\": \"adjusted_points\", \"text\": \"\", \"y\": [384, 264, 240, 240, 240, 216, 216, 200, 192, 176, 168, 124, 112, 112, 108, 108, 104, 100, 100, 84, 84, 84, 80, 80, 72], \"marker\": {\"color\": \"rgba(255, 153, 51, 0.6)\", \"line\": {\"color\": \"rgba(255, 153, 51, 1.0)\", \"width\": 1}}, \"x\": [\"tyrionlannister\", \"aryastark\", \"waif\", \"osha\", \"kinvara\", \"olennatyrell\", \"davosseaworth\", \"waldabolton\", \"macetyrell\", \"ahko\", \"daenerystargaryen\", \"varys\", \"eurongreyjoy\", \"tormundgiantsbane\", \"gilly\", \"threeeyedraven\", \"highsparrow\", \"razdalmoeraz\", \"wunwun\", \"bronn\", \"hodor\", \"yaragreyjoy\", \"bryndentully\", \"yezzanzoqaggaz\", \"margaerytyrell\"], \"type\": \"bar\", \"orientation\": \"v\"}], {\"title\": \"Awarded Points in the Wit category in Essos\", \"paper_bgcolor\": \"#151516\", \"plot_bgcolor\": \"#151516\", \"xaxis1\": {\"tickfont\": {\"color\": \"#C2C2C2\"}, \"title\": \"\", \"showgrid\": true, \"zerolinecolor\": \"#666570\", \"gridcolor\": \"#434343\", \"titlefont\": {\"color\": \"#D9D9D9\"}}, \"height\": 587, \"yaxis1\": {\"tickfont\": {\"color\": \"#C2C2C2\"}, \"title\": \"\", \"showgrid\": true, \"zerolinecolor\": \"#666570\", \"gridcolor\": \"#434343\", \"titlefont\": {\"color\": \"#D9D9D9\"}}, \"width\": 1116, \"titlefont\": {\"color\": \"#D9D9D9\"}, \"margin\": {\"r\": 50, \"b\": 120, \"l\": 50, \"t\": 60}, \"legend\": {\"bgcolor\": \"#151516\", \"font\": {\"color\": \"#D9D9D9\"}}}, {\"linkText\": \"Export to plot.ly\", \"showLink\": false})});</script>"
      ],
      "text/plain": [
       "<IPython.core.display.HTML object>"
      ]
     },
     "metadata": {},
     "output_type": "display_data"
    }
   ],
   "source": [
    "award_code = 'wit'\n",
    "awards[award_code].ix[:25].iplot(\n",
    "    kind='bar',\n",
    "    title='Awarded Points in the {} category in {}'.format(award_code.title(),LEAGUE.title()),\n",
    "    margin=(50,50,120,60)\n",
    ")"
   ]
  },
  {
   "cell_type": "code",
   "execution_count": 90,
   "metadata": {
    "collapsed": false,
    "slideshow": {
     "slide_type": "slide"
    }
   },
   "outputs": [
    {
     "data": {
      "text/html": [
       "<div id=\"6518557b-5b67-48e0-932c-676fc08423c0\" style=\"height: 587; width: 1116px;\" class=\"plotly-graph-div\"></div><script type=\"text/javascript\">require([\"plotly\"], function(Plotly) { window.PLOTLYENV=window.PLOTLYENV || {};window.PLOTLYENV.BASE_URL=\"https://plot.ly\";Plotly.newPlot(\"6518557b-5b67-48e0-932c-676fc08423c0\", [{\"name\": \"adjusted_points\", \"text\": \"\", \"y\": [576, 400, 352, 300, 272, 272, 216, 156, 156, 144, 136, 128, 124, 112, 112, 112, 100, 100, 100, 96, 84, 80, 80, 80, 80], \"marker\": {\"color\": \"rgba(255, 153, 51, 0.6)\", \"line\": {\"color\": \"rgba(255, 153, 51, 1.0)\", \"width\": 1}}, \"x\": [\"aryastark\", \"wunwun\", \"ramsaybolton\", \"hodor\", \"gregorclegane\", \"osha\", \"brienneoftarth\", \"waif\", \"jonsnow\", \"ahko\", \"highsparrow\", \"trystanemartell\", \"daenerystargaryen\", \"rickonstark\", \"ellariasand\", \"jaimelannister\", \"razdalmoeraz\", \"edmuretully\", \"kinvara\", \"margaerytyrell\", \"threeeyedraven\", \"yezzanzoqaggaz\", \"bryndentully\", \"nightsking\", \"myrcellabaratheon\"], \"type\": \"bar\", \"orientation\": \"v\"}], {\"title\": \"Awarded Points in the Damage category in Essos\", \"paper_bgcolor\": \"#151516\", \"plot_bgcolor\": \"#151516\", \"xaxis1\": {\"tickfont\": {\"color\": \"#C2C2C2\"}, \"title\": \"\", \"showgrid\": true, \"zerolinecolor\": \"#666570\", \"gridcolor\": \"#434343\", \"titlefont\": {\"color\": \"#D9D9D9\"}}, \"height\": 587, \"yaxis1\": {\"tickfont\": {\"color\": \"#C2C2C2\"}, \"title\": \"\", \"showgrid\": true, \"zerolinecolor\": \"#666570\", \"gridcolor\": \"#434343\", \"titlefont\": {\"color\": \"#D9D9D9\"}}, \"width\": 1116, \"titlefont\": {\"color\": \"#D9D9D9\"}, \"margin\": {\"r\": 50, \"b\": 120, \"l\": 50, \"t\": 60}, \"legend\": {\"bgcolor\": \"#151516\", \"font\": {\"color\": \"#D9D9D9\"}}}, {\"linkText\": \"Export to plot.ly\", \"showLink\": false})});</script>"
      ],
      "text/plain": [
       "<IPython.core.display.HTML object>"
      ]
     },
     "metadata": {},
     "output_type": "display_data"
    }
   ],
   "source": [
    "award_code = 'damage'\n",
    "awards[award_code].ix[:25].iplot(\n",
    "    kind='bar',\n",
    "    title='Awarded Points in the {} category in {}'.format(award_code.title(),LEAGUE.title()),\n",
    "    margin=(50,50,120,60)\n",
    ")"
   ]
  },
  {
   "cell_type": "code",
   "execution_count": 91,
   "metadata": {
    "collapsed": false,
    "slideshow": {
     "slide_type": "slide"
    }
   },
   "outputs": [
    {
     "data": {
      "text/html": [
       "<div id=\"f94a6d1c-9475-4aa1-a9c4-0ca9ca086d11\" style=\"height: 587; width: 1116px;\" class=\"plotly-graph-div\"></div><script type=\"text/javascript\">require([\"plotly\"], function(Plotly) { window.PLOTLYENV=window.PLOTLYENV || {};window.PLOTLYENV.BASE_URL=\"https://plot.ly\";Plotly.newPlot(\"f94a6d1c-9475-4aa1-a9c4-0ca9ca086d11\", [{\"name\": \"adjusted_points\", \"text\": \"\", \"y\": [696, 360, 320, 304, 240, 232, 196, 192, 176, 144, 140, 100, 100, 100, 88, 84, 84, 80, 80, 80, 80, 72, 64, 60, 56], \"marker\": {\"color\": \"rgba(255, 153, 51, 0.6)\", \"line\": {\"color\": \"rgba(255, 153, 51, 1.0)\", \"width\": 1}}, \"x\": [\"highsparrow\", \"margaerytyrell\", \"eurongreyjoy\", \"ahko\", \"kinvara\", \"ramsaybolton\", \"cerseilannister\", \"osha\", \"ellariasand\", \"sansastark\", \"daenerystargaryen\", \"waldabolton\", \"razdalmoeraz\", \"wunwun\", \"aryastark\", \"roosebolton\", \"tyrionlannister\", \"daarionaharis\", \"davosseaworth\", \"yezzanzoqaggaz\", \"jaqenhghar\", \"jaimelannister\", \"jonsnow\", \"yaragreyjoy\", \"petyrbaelish\"], \"type\": \"bar\", \"orientation\": \"v\"}], {\"title\": \"Awarded Points in the Jockey category in Essos\", \"paper_bgcolor\": \"#151516\", \"plot_bgcolor\": \"#151516\", \"xaxis1\": {\"tickfont\": {\"color\": \"#C2C2C2\"}, \"title\": \"\", \"showgrid\": true, \"zerolinecolor\": \"#666570\", \"gridcolor\": \"#434343\", \"titlefont\": {\"color\": \"#D9D9D9\"}}, \"height\": 587, \"yaxis1\": {\"tickfont\": {\"color\": \"#C2C2C2\"}, \"title\": \"\", \"showgrid\": true, \"zerolinecolor\": \"#666570\", \"gridcolor\": \"#434343\", \"titlefont\": {\"color\": \"#D9D9D9\"}}, \"width\": 1116, \"titlefont\": {\"color\": \"#D9D9D9\"}, \"margin\": {\"r\": 50, \"b\": 120, \"l\": 50, \"t\": 60}, \"legend\": {\"bgcolor\": \"#151516\", \"font\": {\"color\": \"#D9D9D9\"}}}, {\"linkText\": \"Export to plot.ly\", \"showLink\": false})});</script>"
      ],
      "text/plain": [
       "<IPython.core.display.HTML object>"
      ]
     },
     "metadata": {},
     "output_type": "display_data"
    }
   ],
   "source": [
    "award_code = 'jockey'\n",
    "awards[award_code].ix[:25].iplot(\n",
    "    kind='bar',\n",
    "    title='Awarded Points in the {} category in {}'.format(award_code.title(),LEAGUE.title()),\n",
    "    margin=(50,50,120,60)\n",
    ")"
   ]
  },
  {
   "cell_type": "code",
   "execution_count": 92,
   "metadata": {
    "collapsed": false,
    "slideshow": {
     "slide_type": "slide"
    }
   },
   "outputs": [
    {
     "data": {
      "text/html": [
       "<div id=\"e52e6e92-3614-43db-8e21-60d01c8d2e28\" style=\"height: 587; width: 1116px;\" class=\"plotly-graph-div\"></div><script type=\"text/javascript\">require([\"plotly\"], function(Plotly) { window.PLOTLYENV=window.PLOTLYENV || {};window.PLOTLYENV.BASE_URL=\"https://plot.ly\";Plotly.newPlot(\"e52e6e92-3614-43db-8e21-60d01c8d2e28\", [{\"name\": \"adjusted_points\", \"text\": \"\", \"y\": [284, 280, 272, 272, 228, 224, 200, 192, 176, 168, 168, 140, 140, 140, 136, 132, 120, 112, 104, 100, 100, 84, 84, 80, 80], \"marker\": {\"color\": \"rgba(255, 153, 51, 0.6)\", \"line\": {\"color\": \"rgba(255, 153, 51, 1.0)\", \"width\": 1}}, \"x\": [\"daenerystargaryen\", \"melisandre\", \"yezzanzoqaggaz\", \"gregorclegane\", \"waif\", \"osha\", \"razdalmoeraz\", \"ahko\", \"margaerytyrell\", \"aryastark\", \"jaimelannister\", \"wunwun\", \"lotharfrey\", \"kinvara\", \"jaqenhghar\", \"missandei\", \"gilly\", \"areohotah\", \"jonsnow\", \"edmuretully\", \"waldabolton\", \"yaragreyjoy\", \"obarasand\", \"lancel\", \"tyrionlannister\"], \"type\": \"bar\", \"orientation\": \"v\"}], {\"title\": \"Awarded Points in the Style category in Essos\", \"paper_bgcolor\": \"#151516\", \"plot_bgcolor\": \"#151516\", \"xaxis1\": {\"tickfont\": {\"color\": \"#C2C2C2\"}, \"title\": \"\", \"showgrid\": true, \"zerolinecolor\": \"#666570\", \"gridcolor\": \"#434343\", \"titlefont\": {\"color\": \"#D9D9D9\"}}, \"height\": 587, \"yaxis1\": {\"tickfont\": {\"color\": \"#C2C2C2\"}, \"title\": \"\", \"showgrid\": true, \"zerolinecolor\": \"#666570\", \"gridcolor\": \"#434343\", \"titlefont\": {\"color\": \"#D9D9D9\"}}, \"width\": 1116, \"titlefont\": {\"color\": \"#D9D9D9\"}, \"margin\": {\"r\": 50, \"b\": 120, \"l\": 50, \"t\": 60}, \"legend\": {\"bgcolor\": \"#151516\", \"font\": {\"color\": \"#D9D9D9\"}}}, {\"linkText\": \"Export to plot.ly\", \"showLink\": false})});</script>"
      ],
      "text/plain": [
       "<IPython.core.display.HTML object>"
      ]
     },
     "metadata": {},
     "output_type": "display_data"
    }
   ],
   "source": [
    "award_code = 'style'\n",
    "awards[award_code].ix[:25].iplot(\n",
    "    kind='bar',\n",
    "    title='Awarded Points in the {} category in {}'.format(award_code.title(),LEAGUE.title()),\n",
    "    margin=(50,50,120,60)\n",
    ")"
   ]
  },
  {
   "cell_type": "code",
   "execution_count": 93,
   "metadata": {
    "collapsed": false,
    "slideshow": {
     "slide_type": "slide"
    }
   },
   "outputs": [
    {
     "data": {
      "text/html": [
       "<div id=\"94542c64-63cb-4289-b441-db96a7393a0e\" style=\"height: 587; width: 1116px;\" class=\"plotly-graph-div\"></div><script type=\"text/javascript\">require([\"plotly\"], function(Plotly) { window.PLOTLYENV=window.PLOTLYENV || {};window.PLOTLYENV.BASE_URL=\"https://plot.ly\";Plotly.newPlot(\"94542c64-63cb-4289-b441-db96a7393a0e\", [{\"name\": \"adjusted_points\", \"text\": \"\", \"y\": [360, 352, 256, 240, 224, 220, 204, 200, 200, 192, 192, 176, 176, 160, 156, 140, 128, 120, 120, 108, 104, 104, 104, 100, 96], \"marker\": {\"color\": \"rgba(255, 153, 51, 0.6)\", \"line\": {\"color\": \"rgba(255, 153, 51, 1.0)\", \"width\": 1}}, \"x\": [\"hodor\", \"davosseaworth\", \"meerareed\", \"qyburn\", \"osha\", \"wunwun\", \"podrickpayne\", \"kinvara\", \"melessatarly\", \"gregorclegane\", \"ahko\", \"theongreyjoy\", \"melisandre\", \"bowenmarsh\", \"varys\", \"razdalmoeraz\", \"daarionaharis\", \"tormundgiantsbane\", \"gilly\", \"bronn\", \"jaqenhghar\", \"brienneoftarth\", \"aryastark\", \"waldabolton\", \"threeeyedraven\"], \"type\": \"bar\", \"orientation\": \"v\"}], {\"title\": \"Awarded Points in the Support category in Essos\", \"paper_bgcolor\": \"#151516\", \"plot_bgcolor\": \"#151516\", \"xaxis1\": {\"tickfont\": {\"color\": \"#C2C2C2\"}, \"title\": \"\", \"showgrid\": true, \"zerolinecolor\": \"#666570\", \"gridcolor\": \"#434343\", \"titlefont\": {\"color\": \"#D9D9D9\"}}, \"height\": 587, \"yaxis1\": {\"tickfont\": {\"color\": \"#C2C2C2\"}, \"title\": \"\", \"showgrid\": true, \"zerolinecolor\": \"#666570\", \"gridcolor\": \"#434343\", \"titlefont\": {\"color\": \"#D9D9D9\"}}, \"width\": 1116, \"titlefont\": {\"color\": \"#D9D9D9\"}, \"margin\": {\"r\": 50, \"b\": 120, \"l\": 50, \"t\": 60}, \"legend\": {\"bgcolor\": \"#151516\", \"font\": {\"color\": \"#D9D9D9\"}}}, {\"linkText\": \"Export to plot.ly\", \"showLink\": false})});</script>"
      ],
      "text/plain": [
       "<IPython.core.display.HTML object>"
      ]
     },
     "metadata": {},
     "output_type": "display_data"
    }
   ],
   "source": [
    "award_code = 'support'\n",
    "awards[award_code].ix[:25].iplot(\n",
    "    kind='bar',\n",
    "    title='Awarded Points in the {} category in {}'.format(award_code.title(),LEAGUE.title()),\n",
    "    margin=(50,50,120,60)\n",
    ")"
   ]
  },
  {
   "cell_type": "code",
   "execution_count": 94,
   "metadata": {
    "collapsed": false,
    "slideshow": {
     "slide_type": "slide"
    }
   },
   "outputs": [
    {
     "data": {
      "text/html": [
       "<div id=\"516439f0-dc55-4a24-85dc-f2bfe9d2c7e7\" style=\"height: 587; width: 1116px;\" class=\"plotly-graph-div\"></div><script type=\"text/javascript\">require([\"plotly\"], function(Plotly) { window.PLOTLYENV=window.PLOTLYENV || {};window.PLOTLYENV.BASE_URL=\"https://plot.ly\";Plotly.newPlot(\"516439f0-dc55-4a24-85dc-f2bfe9d2c7e7\", [{\"name\": \"wit\", \"text\": \"\", \"y\": [1152.0, 924.0000000000001, 893.1999999999999, 864.0, 832.0, 814.0, 792.0, 728.0, 420.0, 356.0, 216.0, 193.2], \"marker\": {\"color\": \"rgba(255, 153, 51, 0.6)\", \"line\": {\"color\": \"rgba(255, 153, 51, 1.0)\", \"width\": 1}}, \"x\": [\"Krystyna\", \"Alissa\", \"Adrien\", \"Lance\", \"Michelle\", \"Kelvin\", \"Denis\", \"Lucia\", \"Kai\", \"James\", \"Kristin\", \"Patti\"], \"type\": \"bar\", \"orientation\": \"v\"}], {\"title\": \"Winner of the Wit award in Essos\", \"paper_bgcolor\": \"#151516\", \"plot_bgcolor\": \"#151516\", \"xaxis1\": {\"tickfont\": {\"color\": \"#C2C2C2\"}, \"title\": \"\", \"showgrid\": true, \"zerolinecolor\": \"#666570\", \"gridcolor\": \"#434343\", \"titlefont\": {\"color\": \"#D9D9D9\"}}, \"height\": 587, \"yaxis1\": {\"tickfont\": {\"color\": \"#C2C2C2\"}, \"title\": \"\", \"showgrid\": true, \"zerolinecolor\": \"#666570\", \"gridcolor\": \"#434343\", \"titlefont\": {\"color\": \"#D9D9D9\"}}, \"width\": 1116, \"titlefont\": {\"color\": \"#D9D9D9\"}, \"margin\": {\"r\": 50, \"b\": 120, \"l\": 50, \"t\": 60}, \"legend\": {\"bgcolor\": \"#151516\", \"font\": {\"color\": \"#D9D9D9\"}}}, {\"linkText\": \"Export to plot.ly\", \"showLink\": false})});</script>"
      ],
      "text/plain": [
       "<IPython.core.display.HTML object>"
      ]
     },
     "metadata": {},
     "output_type": "display_data"
    }
   ],
   "source": [
    "award_code = 'wit'\n",
    "player_awarded_points[[award_code]].sort_values(award_code,ascending=False).iplot(\n",
    "    kind='bar',\n",
    "    title='Winner of the {} award in {}'.format(award_code.title(),LEAGUE.title()),\n",
    "    margin=(50,50,120,60)\n",
    ")"
   ]
  },
  {
   "cell_type": "code",
   "execution_count": 95,
   "metadata": {
    "collapsed": false,
    "slideshow": {
     "slide_type": "slide"
    }
   },
   "outputs": [
    {
     "data": {
      "text/html": [
       "<div id=\"4feb6382-ca52-487e-a744-7bf93d8e2491\" style=\"height: 587; width: 1116px;\" class=\"plotly-graph-div\"></div><script type=\"text/javascript\">require([\"plotly\"], function(Plotly) { window.PLOTLYENV=window.PLOTLYENV || {};window.PLOTLYENV.BASE_URL=\"https://plot.ly\";Plotly.newPlot(\"4feb6382-ca52-487e-a744-7bf93d8e2491\", [{\"name\": \"damage\", \"text\": \"\", \"y\": [1204.8000000000002, 1130.8000000000002, 1116.0, 1095.6000000000004, 1086.8, 1016.0, 844.0, 708.0, 408.0, 320.0, 288.0, 247.79999999999998], \"marker\": {\"color\": \"rgba(255, 153, 51, 0.6)\", \"line\": {\"color\": \"rgba(255, 153, 51, 1.0)\", \"width\": 1}}, \"x\": [\"Kelvin\", \"Lance\", \"Alissa\", \"Lucia\", \"Michelle\", \"Krystyna\", \"Kristin\", \"Adrien\", \"Denis\", \"James\", \"Kai\", \"Patti\"], \"type\": \"bar\", \"orientation\": \"v\"}], {\"title\": \"Winner of the Damage award in Essos\", \"paper_bgcolor\": \"#151516\", \"plot_bgcolor\": \"#151516\", \"xaxis1\": {\"tickfont\": {\"color\": \"#C2C2C2\"}, \"title\": \"\", \"showgrid\": true, \"zerolinecolor\": \"#666570\", \"gridcolor\": \"#434343\", \"titlefont\": {\"color\": \"#D9D9D9\"}}, \"height\": 587, \"yaxis1\": {\"tickfont\": {\"color\": \"#C2C2C2\"}, \"title\": \"\", \"showgrid\": true, \"zerolinecolor\": \"#666570\", \"gridcolor\": \"#434343\", \"titlefont\": {\"color\": \"#D9D9D9\"}}, \"width\": 1116, \"titlefont\": {\"color\": \"#D9D9D9\"}, \"margin\": {\"r\": 50, \"b\": 120, \"l\": 50, \"t\": 60}, \"legend\": {\"bgcolor\": \"#151516\", \"font\": {\"color\": \"#D9D9D9\"}}}, {\"linkText\": \"Export to plot.ly\", \"showLink\": false})});</script>"
      ],
      "text/plain": [
       "<IPython.core.display.HTML object>"
      ]
     },
     "metadata": {},
     "output_type": "display_data"
    }
   ],
   "source": [
    "award_code = 'damage'\n",
    "player_awarded_points[[award_code]].sort_values(award_code,ascending=False).iplot(\n",
    "    kind='bar',\n",
    "    title='Winner of the {} award in {}'.format(award_code.title(),LEAGUE.title()),\n",
    "    margin=(50,50,120,60)\n",
    ")"
   ]
  },
  {
   "cell_type": "code",
   "execution_count": 96,
   "metadata": {
    "collapsed": false,
    "slideshow": {
     "slide_type": "slide"
    }
   },
   "outputs": [
    {
     "data": {
      "text/html": [
       "<div id=\"5c7be208-45b1-42b2-b994-d62db47b9147\" style=\"height: 587; width: 1116px;\" class=\"plotly-graph-div\"></div><script type=\"text/javascript\">require([\"plotly\"], function(Plotly) { window.PLOTLYENV=window.PLOTLYENV || {};window.PLOTLYENV.BASE_URL=\"https://plot.ly\";Plotly.newPlot(\"5c7be208-45b1-42b2-b994-d62db47b9147\", [{\"name\": \"jockey\", \"text\": \"\", \"y\": [944.0, 849.2, 794.0, 764.0, 692.0, 532.0, 452.0, 440.0, 382.8, 336.0, 212.0, 201.6], \"marker\": {\"color\": \"rgba(255, 153, 51, 0.6)\", \"line\": {\"color\": \"rgba(255, 153, 51, 1.0)\", \"width\": 1}}, \"x\": [\"Alissa\", \"Adrien\", \"Kelvin\", \"Denis\", \"Lance\", \"Krystyna\", \"James\", \"Michelle\", \"Lucia\", \"Kai\", \"Kristin\", \"Patti\"], \"type\": \"bar\", \"orientation\": \"v\"}], {\"title\": \"Winner of the Jockey award in Essos\", \"paper_bgcolor\": \"#151516\", \"plot_bgcolor\": \"#151516\", \"xaxis1\": {\"tickfont\": {\"color\": \"#C2C2C2\"}, \"title\": \"\", \"showgrid\": true, \"zerolinecolor\": \"#666570\", \"gridcolor\": \"#434343\", \"titlefont\": {\"color\": \"#D9D9D9\"}}, \"height\": 587, \"yaxis1\": {\"tickfont\": {\"color\": \"#C2C2C2\"}, \"title\": \"\", \"showgrid\": true, \"zerolinecolor\": \"#666570\", \"gridcolor\": \"#434343\", \"titlefont\": {\"color\": \"#D9D9D9\"}}, \"width\": 1116, \"titlefont\": {\"color\": \"#D9D9D9\"}, \"margin\": {\"r\": 50, \"b\": 120, \"l\": 50, \"t\": 60}, \"legend\": {\"bgcolor\": \"#151516\", \"font\": {\"color\": \"#D9D9D9\"}}}, {\"linkText\": \"Export to plot.ly\", \"showLink\": false})});</script>"
      ],
      "text/plain": [
       "<IPython.core.display.HTML object>"
      ]
     },
     "metadata": {},
     "output_type": "display_data"
    }
   ],
   "source": [
    "award_code = 'jockey'\n",
    "player_awarded_points[[award_code]].sort_values(award_code,ascending=False).iplot(\n",
    "    kind='bar',\n",
    "    title='Winner of the {} award in {}'.format(award_code.title(),LEAGUE.title()),\n",
    "    margin=(50,50,120,60)\n",
    ")"
   ]
  },
  {
   "cell_type": "code",
   "execution_count": 97,
   "metadata": {
    "collapsed": false,
    "slideshow": {
     "slide_type": "slide"
    }
   },
   "outputs": [
    {
     "data": {
      "text/html": [
       "<div id=\"3fff5b19-7e99-497c-bba5-41acd881650d\" style=\"height: 587; width: 1116px;\" class=\"plotly-graph-div\"></div><script type=\"text/javascript\">require([\"plotly\"], function(Plotly) { window.PLOTLYENV=window.PLOTLYENV || {};window.PLOTLYENV.BASE_URL=\"https://plot.ly\";Plotly.newPlot(\"3fff5b19-7e99-497c-bba5-41acd881650d\", [{\"name\": \"style\", \"text\": \"\", \"y\": [816.0, 788.0, 736.0, 708.0, 580.0, 572.0, 440.0, 422.40000000000003, 415.8, 400.40000000000003, 366.0, 224.0], \"marker\": {\"color\": \"rgba(255, 153, 51, 0.6)\", \"line\": {\"color\": \"rgba(255, 153, 51, 1.0)\", \"width\": 1}}, \"x\": [\"Michelle\", \"Krystyna\", \"Kelvin\", \"Lance\", \"Kristin\", \"Alissa\", \"Adrien\", \"James\", \"Patti\", \"Denis\", \"Lucia\", \"Kai\"], \"type\": \"bar\", \"orientation\": \"v\"}], {\"title\": \"Winner of the Style award in Essos\", \"paper_bgcolor\": \"#151516\", \"plot_bgcolor\": \"#151516\", \"xaxis1\": {\"tickfont\": {\"color\": \"#C2C2C2\"}, \"title\": \"\", \"showgrid\": true, \"zerolinecolor\": \"#666570\", \"gridcolor\": \"#434343\", \"titlefont\": {\"color\": \"#D9D9D9\"}}, \"height\": 587, \"yaxis1\": {\"tickfont\": {\"color\": \"#C2C2C2\"}, \"title\": \"\", \"showgrid\": true, \"zerolinecolor\": \"#666570\", \"gridcolor\": \"#434343\", \"titlefont\": {\"color\": \"#D9D9D9\"}}, \"width\": 1116, \"titlefont\": {\"color\": \"#D9D9D9\"}, \"margin\": {\"r\": 50, \"b\": 120, \"l\": 50, \"t\": 60}, \"legend\": {\"bgcolor\": \"#151516\", \"font\": {\"color\": \"#D9D9D9\"}}}, {\"linkText\": \"Export to plot.ly\", \"showLink\": false})});</script>"
      ],
      "text/plain": [
       "<IPython.core.display.HTML object>"
      ]
     },
     "metadata": {},
     "output_type": "display_data"
    }
   ],
   "source": [
    "award_code = 'style'\n",
    "player_awarded_points[[award_code]].sort_values(award_code,ascending=False).iplot(\n",
    "    kind='bar',\n",
    "    title='Winner of the {} award in {}'.format(award_code.title(),LEAGUE.title()),\n",
    "    margin=(50,50,120,60)\n",
    ")"
   ]
  },
  {
   "cell_type": "code",
   "execution_count": 98,
   "metadata": {
    "collapsed": false,
    "slideshow": {
     "slide_type": "slide"
    }
   },
   "outputs": [
    {
     "data": {
      "text/html": [
       "<div id=\"07487608-0a73-4150-82f9-a6cb76160f5b\" style=\"height: 587; width: 1116px;\" class=\"plotly-graph-div\"></div><script type=\"text/javascript\">require([\"plotly\"], function(Plotly) { window.PLOTLYENV=window.PLOTLYENV || {};window.PLOTLYENV.BASE_URL=\"https://plot.ly\";Plotly.newPlot(\"07487608-0a73-4150-82f9-a6cb76160f5b\", [{\"name\": \"support\", \"text\": \"\", \"y\": [888.0, 802.2, 796.8, 792.0, 756.0, 680.0, 570.0, 514.8000000000001, 470.8, 409.20000000000005, 348.0, 332.0], \"marker\": {\"color\": \"rgba(255, 153, 51, 0.6)\", \"line\": {\"color\": \"rgba(255, 153, 51, 1.0)\", \"width\": 1}}, \"x\": [\"Krystyna\", \"Patti\", \"Kristin\", \"Lance\", \"Kai\", \"Adrien\", \"Lucia\", \"Alissa\", \"Michelle\", \"Denis\", \"James\", \"Kelvin\"], \"type\": \"bar\", \"orientation\": \"v\"}], {\"title\": \"Winner of the Support award in Essos\", \"paper_bgcolor\": \"#151516\", \"plot_bgcolor\": \"#151516\", \"xaxis1\": {\"tickfont\": {\"color\": \"#C2C2C2\"}, \"title\": \"\", \"showgrid\": true, \"zerolinecolor\": \"#666570\", \"gridcolor\": \"#434343\", \"titlefont\": {\"color\": \"#D9D9D9\"}}, \"height\": 587, \"yaxis1\": {\"tickfont\": {\"color\": \"#C2C2C2\"}, \"title\": \"\", \"showgrid\": true, \"zerolinecolor\": \"#666570\", \"gridcolor\": \"#434343\", \"titlefont\": {\"color\": \"#D9D9D9\"}}, \"width\": 1116, \"titlefont\": {\"color\": \"#D9D9D9\"}, \"margin\": {\"r\": 50, \"b\": 120, \"l\": 50, \"t\": 60}, \"legend\": {\"bgcolor\": \"#151516\", \"font\": {\"color\": \"#D9D9D9\"}}}, {\"linkText\": \"Export to plot.ly\", \"showLink\": false})});</script>"
      ],
      "text/plain": [
       "<IPython.core.display.HTML object>"
      ]
     },
     "metadata": {},
     "output_type": "display_data"
    }
   ],
   "source": [
    "award_code = 'support'\n",
    "player_awarded_points[[award_code]].sort_values(award_code,ascending=False).iplot(\n",
    "    kind='bar',\n",
    "    title='Winner of the {} award in {}'.format(award_code.title(),LEAGUE.title()),\n",
    "    margin=(50,50,120,60)\n",
    ")"
   ]
  },
  {
   "cell_type": "code",
   "execution_count": 99,
   "metadata": {
    "collapsed": false,
    "slideshow": {
     "slide_type": "slide"
    }
   },
   "outputs": [
    {
     "data": {
      "text/html": [
       "<div id=\"ae9d27ed-4c6b-49f1-9455-dbf069936897\" style=\"height: 587; width: 1116px;\" class=\"plotly-graph-div\"></div><script type=\"text/javascript\">require([\"plotly\"], function(Plotly) { window.PLOTLYENV=window.PLOTLYENV || {};window.PLOTLYENV.BASE_URL=\"https://plot.ly\";Plotly.newPlot(\"ae9d27ed-4c6b-49f1-9455-dbf069936897\", [{\"name\": \"episode\", \"text\": \"\", \"y\": [555, 555, 555, 555, 555, 555, 555, 555, 555, 555, 555, 555], \"marker\": {\"color\": \"rgba(255, 153, 51, 0.6)\", \"line\": {\"color\": \"rgba(255, 153, 51, 1.0)\", \"width\": 1}}, \"x\": [\"Adrien\", \"Alissa\", \"Denis\", \"James\", \"Kai\", \"Kelvin\", \"Kristin\", \"Krystyna\", \"Lance\", \"Lucia\", \"Michelle\", \"Patti\"], \"type\": \"bar\", \"orientation\": \"v\"}, {\"name\": \"damage\", \"text\": \"\", \"y\": [708.0, 1116.0, 408.0, 320.0, 288.0, 1204.8000000000002, 844.0, 1016.0, 1130.8000000000002, 1095.6000000000004, 1086.8, 247.79999999999998], \"marker\": {\"color\": \"rgba(55, 128, 191, 0.6)\", \"line\": {\"color\": \"rgba(55, 128, 191, 1.0)\", \"width\": 1}}, \"x\": [\"Adrien\", \"Alissa\", \"Denis\", \"James\", \"Kai\", \"Kelvin\", \"Kristin\", \"Krystyna\", \"Lance\", \"Lucia\", \"Michelle\", \"Patti\"], \"type\": \"bar\", \"orientation\": \"v\"}, {\"name\": \"jockey\", \"text\": \"\", \"y\": [849.2, 944.0, 764.0, 452.0, 336.0, 794.0, 212.0, 532.0, 692.0, 382.8, 440.0, 201.6], \"marker\": {\"color\": \"rgba(50, 171, 96, 0.6)\", \"line\": {\"color\": \"rgba(50, 171, 96, 1.0)\", \"width\": 1}}, \"x\": [\"Adrien\", \"Alissa\", \"Denis\", \"James\", \"Kai\", \"Kelvin\", \"Kristin\", \"Krystyna\", \"Lance\", \"Lucia\", \"Michelle\", \"Patti\"], \"type\": \"bar\", \"orientation\": \"v\"}, {\"name\": \"style\", \"text\": \"\", \"y\": [440.0, 572.0, 400.40000000000003, 422.40000000000003, 224.0, 736.0, 580.0, 788.0, 708.0, 366.0, 816.0, 415.8], \"marker\": {\"color\": \"rgba(128, 0, 128, 0.6)\", \"line\": {\"color\": \"rgba(128, 0, 128, 1.0)\", \"width\": 1}}, \"x\": [\"Adrien\", \"Alissa\", \"Denis\", \"James\", \"Kai\", \"Kelvin\", \"Kristin\", \"Krystyna\", \"Lance\", \"Lucia\", \"Michelle\", \"Patti\"], \"type\": \"bar\", \"orientation\": \"v\"}, {\"name\": \"support\", \"text\": \"\", \"y\": [680.0, 514.8000000000001, 409.20000000000005, 348.0, 756.0, 332.0, 796.8, 888.0, 792.0, 570.0, 470.8, 802.2], \"marker\": {\"color\": \"rgba(219, 64, 82, 0.6)\", \"line\": {\"color\": \"rgba(219, 64, 82, 1.0)\", \"width\": 1}}, \"x\": [\"Adrien\", \"Alissa\", \"Denis\", \"James\", \"Kai\", \"Kelvin\", \"Kristin\", \"Krystyna\", \"Lance\", \"Lucia\", \"Michelle\", \"Patti\"], \"type\": \"bar\", \"orientation\": \"v\"}, {\"name\": \"wit\", \"text\": \"\", \"y\": [893.1999999999999, 924.0000000000001, 792.0, 356.0, 420.0, 814.0, 216.0, 1152.0, 864.0, 728.0, 832.0, 193.2], \"marker\": {\"color\": \"rgba(0, 128, 128, 0.6)\", \"line\": {\"color\": \"rgba(0, 128, 128, 1.0)\", \"width\": 1}}, \"x\": [\"Adrien\", \"Alissa\", \"Denis\", \"James\", \"Kai\", \"Kelvin\", \"Kristin\", \"Krystyna\", \"Lance\", \"Lucia\", \"Michelle\", \"Patti\"], \"type\": \"bar\", \"orientation\": \"v\"}], {\"title\": \"Point Distribution per Award per Player in Essos\", \"paper_bgcolor\": \"#151516\", \"plot_bgcolor\": \"#151516\", \"xaxis1\": {\"tickfont\": {\"color\": \"#C2C2C2\"}, \"title\": \"\", \"showgrid\": true, \"zerolinecolor\": \"#666570\", \"gridcolor\": \"#434343\", \"titlefont\": {\"color\": \"#D9D9D9\"}}, \"height\": 587, \"yaxis1\": {\"tickfont\": {\"color\": \"#C2C2C2\"}, \"title\": \"\", \"showgrid\": true, \"zerolinecolor\": \"#666570\", \"gridcolor\": \"#434343\", \"titlefont\": {\"color\": \"#D9D9D9\"}}, \"width\": 1116, \"titlefont\": {\"color\": \"#D9D9D9\"}, \"legend\": {\"bgcolor\": \"#151516\", \"font\": {\"color\": \"#D9D9D9\"}}}, {\"linkText\": \"Export to plot.ly\", \"showLink\": false})});</script>"
      ],
      "text/plain": [
       "<IPython.core.display.HTML object>"
      ]
     },
     "metadata": {},
     "output_type": "display_data"
    }
   ],
   "source": [
    "player_awarded_points = player_award_scores.reset_index().groupby('player').sum()\n",
    "player_awarded_points.ix[:,player_awarded_points.columns.str.contains('scores')]\n",
    "player_awarded_points.columns = player_awarded_points.columns.str.replace('scores_','')\n",
    "player_awarded_points.ix[:,1:].iplot(\n",
    "    kind='bar',\n",
    "#     barmode='stack',\n",
    "    title='Point Distribution per Award per Player in {}'.format(LEAGUE.title()))\n",
    "\n",
    "\n",
    "# player_award_scores.ix[:,player_award_scores.columns.str.contains('scores')]\n",
    "# player_award_scores.reset_index().groupby('player')\n"
   ]
  },
  {
   "cell_type": "markdown",
   "metadata": {
    "slideshow": {
     "slide_type": "slide"
    }
   },
   "source": [
    "## Houses"
   ]
  },
  {
   "cell_type": "code",
   "execution_count": 100,
   "metadata": {
    "collapsed": false,
    "slideshow": {
     "slide_type": "slide"
    }
   },
   "outputs": [
    {
     "data": {
      "text/html": [
       "<div id=\"f5f17354-f6d7-4777-9328-dcfe39eeaa2b\" style=\"height: 587; width: 1116px;\" class=\"plotly-graph-div\"></div><script type=\"text/javascript\">require([\"plotly\"], function(Plotly) { window.PLOTLYENV=window.PLOTLYENV || {};window.PLOTLYENV.BASE_URL=\"https://plot.ly\";Plotly.newPlot(\"f5f17354-f6d7-4777-9328-dcfe39eeaa2b\", [{\"name\": \"points\", \"text\": \"\", \"y\": [16, 20, 56, 456, 256, 96, 152, 188, 156, 200, 388, 172], \"marker\": {\"color\": \"rgba(255, 153, 51, 0.6)\", \"line\": {\"color\": \"rgba(255, 153, 51, 1.0)\", \"width\": 1}}, \"x\": [\"arryn\", \"bolton\", \"greyjoy\", \"independent\", \"lannister\", \"martell\", \"meereen\", \"minor\", \"nightswatch\", \"stark\", \"targaryen\", \"tyrell\"], \"type\": \"bar\", \"orientation\": \"v\"}, {\"name\": \"adjusted_points\", \"text\": \"\", \"y\": [40, 100, 156, 1112, 644, 296, 248, 756, 292, 572, 588, 400], \"marker\": {\"color\": \"rgba(55, 128, 191, 0.6)\", \"line\": {\"color\": \"rgba(55, 128, 191, 1.0)\", \"width\": 1}}, \"x\": [\"arryn\", \"bolton\", \"greyjoy\", \"independent\", \"lannister\", \"martell\", \"meereen\", \"minor\", \"nightswatch\", \"stark\", \"targaryen\", \"tyrell\"], \"type\": \"bar\", \"orientation\": \"v\"}], {\"title\": \"Total Points Awarded per House Characters in essos\", \"paper_bgcolor\": \"#151516\", \"plot_bgcolor\": \"#151516\", \"xaxis1\": {\"tickfont\": {\"color\": \"#C2C2C2\"}, \"title\": \"Character House\", \"showgrid\": true, \"zerolinecolor\": \"#666570\", \"gridcolor\": \"#434343\", \"titlefont\": {\"color\": \"#D9D9D9\"}}, \"height\": 587, \"yaxis1\": {\"tickfont\": {\"color\": \"#C2C2C2\"}, \"title\": \"\", \"showgrid\": true, \"zerolinecolor\": \"#666570\", \"gridcolor\": \"#434343\", \"titlefont\": {\"color\": \"#D9D9D9\"}}, \"width\": 1116, \"titlefont\": {\"color\": \"#D9D9D9\"}, \"legend\": {\"bgcolor\": \"#151516\", \"font\": {\"color\": \"#D9D9D9\"}}}, {\"linkText\": \"Export to plot.ly\", \"showLink\": false})});</script>"
      ],
      "text/plain": [
       "<IPython.core.display.HTML object>"
      ]
     },
     "metadata": {},
     "output_type": "display_data"
    }
   ],
   "source": [
    "scored_points.groupby('house').sum()[['points','adjusted_points']].iplot(\n",
    "    kind='bar',\n",
    "    title='Total Points Awarded per House Characters in {}'.format(LEAGUE),\n",
    "    xTitle='Character House')"
   ]
  },
  {
   "cell_type": "markdown",
   "metadata": {
    "slideshow": {
     "slide_type": "slide"
    }
   },
   "source": [
    "## Missions"
   ]
  },
  {
   "cell_type": "code",
   "execution_count": 101,
   "metadata": {
    "collapsed": false,
    "slideshow": {
     "slide_type": "slide"
    }
   },
   "outputs": [
    {
     "data": {
      "text/html": [
       "<div id=\"8a16ab19-a25f-4353-addc-814361a2b7cd\" style=\"height: 587; width: 1116px;\" class=\"plotly-graph-div\"></div><script type=\"text/javascript\">require([\"plotly\"], function(Plotly) { window.PLOTLYENV=window.PLOTLYENV || {};window.PLOTLYENV.BASE_URL=\"https://plot.ly\";Plotly.newPlot(\"8a16ab19-a25f-4353-addc-814361a2b7cd\", [{\"name\": \"player\", \"text\": \"\", \"y\": [13, 1, 5, 10, 6, 5, 1, 1, 2, 4, 14, 9, 5], \"marker\": {\"color\": \"rgba(255, 153, 51, 0.6)\", \"line\": {\"color\": \"rgba(255, 153, 51, 1.0)\", \"width\": 1}}, \"x\": [\"None\", \"arryn\", \"bolton\", \"greyjoy\", \"independent\", \"lannister\", \"martell\", \"meereen\", \"minor\", \"nightswatch\", \"stark\", \"targaryen\", \"tyrell\"], \"type\": \"bar\", \"orientation\": \"v\"}], {\"title\": \"Diplomatic Missions against a House in Essos\", \"paper_bgcolor\": \"#151516\", \"plot_bgcolor\": \"#151516\", \"xaxis1\": {\"tickfont\": {\"color\": \"#C2C2C2\"}, \"title\": \"\", \"showgrid\": true, \"zerolinecolor\": \"#666570\", \"gridcolor\": \"#434343\", \"titlefont\": {\"color\": \"#D9D9D9\"}}, \"height\": 587, \"yaxis1\": {\"tickfont\": {\"color\": \"#C2C2C2\"}, \"title\": \"\", \"showgrid\": true, \"zerolinecolor\": \"#666570\", \"gridcolor\": \"#434343\", \"titlefont\": {\"color\": \"#D9D9D9\"}}, \"width\": 1116, \"titlefont\": {\"color\": \"#D9D9D9\"}, \"legend\": {\"bgcolor\": \"#151516\", \"font\": {\"color\": \"#D9D9D9\"}}}, {\"linkText\": \"Export to plot.ly\", \"showLink\": false})});</script>"
      ],
      "text/plain": [
       "<IPython.core.display.HTML object>"
      ]
     },
     "metadata": {},
     "output_type": "display_data"
    }
   ],
   "source": [
    "missions.groupby('diplomatic_target_house').count().ix[1:,'player'].iplot(kind='bar', title='Diplomatic Missions against a House in {}'.format(LEAGUE.title()))"
   ]
  },
  {
   "cell_type": "code",
   "execution_count": 102,
   "metadata": {
    "collapsed": false,
    "slideshow": {
     "slide_type": "slide"
    }
   },
   "outputs": [
    {
     "data": {
      "text/html": [
       "<div id=\"3b9df923-c518-4f7e-9fcf-9dfead412406\" style=\"height: 587; width: 1116px;\" class=\"plotly-graph-div\"></div><script type=\"text/javascript\">require([\"plotly\"], function(Plotly) { window.PLOTLYENV=window.PLOTLYENV || {};window.PLOTLYENV.BASE_URL=\"https://plot.ly\";Plotly.newPlot(\"3b9df923-c518-4f7e-9fcf-9dfead412406\", [{\"name\": \"player\", \"text\": \"\", \"y\": [2, 10, 5, 2, 9, 4, 9, 6, 6], \"marker\": {\"color\": \"rgba(255, 153, 51, 0.6)\", \"line\": {\"color\": \"rgba(255, 153, 51, 1.0)\", \"width\": 1}}, \"x\": [\"arryn\", \"bolton\", \"greyjoy\", \"lannister\", \"meereen\", \"nightswatch\", \"stark\", \"targaryen\", \"tyrell\"], \"type\": \"bar\", \"orientation\": \"v\"}], {\"title\": \"Assassination Missions against a House in Essos\", \"paper_bgcolor\": \"#151516\", \"plot_bgcolor\": \"#151516\", \"xaxis1\": {\"tickfont\": {\"color\": \"#C2C2C2\"}, \"title\": \"\", \"showgrid\": true, \"zerolinecolor\": \"#666570\", \"gridcolor\": \"#434343\", \"titlefont\": {\"color\": \"#D9D9D9\"}}, \"height\": 587, \"yaxis1\": {\"tickfont\": {\"color\": \"#C2C2C2\"}, \"title\": \"\", \"showgrid\": true, \"zerolinecolor\": \"#666570\", \"gridcolor\": \"#434343\", \"titlefont\": {\"color\": \"#D9D9D9\"}}, \"width\": 1116, \"titlefont\": {\"color\": \"#D9D9D9\"}, \"legend\": {\"bgcolor\": \"#151516\", \"font\": {\"color\": \"#D9D9D9\"}}}, {\"linkText\": \"Export to plot.ly\", \"showLink\": false})});</script>"
      ],
      "text/plain": [
       "<IPython.core.display.HTML object>"
      ]
     },
     "metadata": {},
     "output_type": "display_data"
    }
   ],
   "source": [
    "missions.groupby('assassination_target_house').count().ix[1:,'player'].iplot(kind='bar', title='Assassination Missions against a House in {}'.format(LEAGUE.title()))"
   ]
  },
  {
   "cell_type": "code",
   "execution_count": 103,
   "metadata": {
    "collapsed": false,
    "slideshow": {
     "slide_type": "slide"
    }
   },
   "outputs": [
    {
     "data": {
      "text/html": [
       "<div id=\"ba7f188f-3091-4eb6-9596-55df206d680b\" style=\"height: 587; width: 1116px;\" class=\"plotly-graph-div\"></div><script type=\"text/javascript\">require([\"plotly\"], function(Plotly) { window.PLOTLYENV=window.PLOTLYENV || {};window.PLOTLYENV.BASE_URL=\"https://plot.ly\";Plotly.newPlot(\"ba7f188f-3091-4eb6-9596-55df206d680b\", [{\"y\": [\"\", \"None\", \"arryn\", \"bolton\", \"greyjoy\", \"independent\", \"lannister\", \"martell\", \"meereen\", \"minor\", \"nightswatch\", \"stark\", \"targaryen\", \"tyrell\"], \"x\": [\"Adrien\", \"Alissa\", \"Denis\", \"James\", \"Kai\", \"Kristin\", \"Krystyna\", \"Lance\", \"Lucia\", \"Michelle\", \"Patti\"], \"z\": [[0.0, 0.0, 0.0, 0.0, 0.0, 0.0, 0.0, 0.0, 0.0, 1.0, 0.0], [0.0, 1.0, 0.0, 4.0, 1.0, 1.0, 1.0, 1.0, 4.0, 0.0, 0.0], [0.0, 0.0, 0.0, 1.0, 0.0, 0.0, 0.0, 0.0, 0.0, 0.0, 0.0], [0.0, 2.0, 1.0, 0.0, 0.0, 0.0, 0.0, 0.0, 0.0, 0.0, 2.0], [0.0, 4.0, 1.0, 1.0, 0.0, 0.0, 0.0, 2.0, 1.0, 0.0, 1.0], [1.0, 0.0, 0.0, 1.0, 0.0, 0.0, 0.0, 0.0, 2.0, 0.0, 2.0], [0.0, 1.0, 0.0, 1.0, 0.0, 1.0, 0.0, 1.0, 1.0, 0.0, 0.0], [0.0, 0.0, 0.0, 0.0, 0.0, 0.0, 0.0, 0.0, 1.0, 0.0, 0.0], [0.0, 0.0, 0.0, 1.0, 0.0, 0.0, 0.0, 0.0, 0.0, 0.0, 0.0], [0.0, 0.0, 0.0, 0.0, 1.0, 0.0, 0.0, 0.0, 0.0, 0.0, 1.0], [2.0, 0.0, 2.0, 0.0, 0.0, 0.0, 0.0, 0.0, 0.0, 0.0, 0.0], [0.0, 0.0, 0.0, 0.0, 3.0, 0.0, 9.0, 2.0, 0.0, 0.0, 0.0], [1.0, 1.0, 1.0, 1.0, 0.0, 0.0, 0.0, 2.0, 0.0, 0.0, 3.0], [0.0, 1.0, 2.0, 0.0, 0.0, 0.0, 0.0, 2.0, 0.0, 0.0, 0.0]], \"type\": \"heatmap\", \"colorscale\": [[0.0, \"rgb(255,255,217)\"], [0.125, \"rgb(237,248,177)\"], [0.25, \"rgb(199,233,180)\"], [0.375, \"rgb(127,205,187)\"], [0.5, \"rgb(65,182,196)\"], [0.625, \"rgb(29,145,192)\"], [0.75, \"rgb(34,94,168)\"], [0.875, \"rgb(37,52,148)\"], [1.0, \"rgb(8,29,88)\"]]}], {\"title\": \"Diplomatic Target Houses by Player in Essos\", \"paper_bgcolor\": \"#151516\", \"plot_bgcolor\": \"#151516\", \"xaxis1\": {\"tickfont\": {\"color\": \"#C2C2C2\"}, \"title\": \"Players\", \"showgrid\": true, \"zerolinecolor\": \"#666570\", \"gridcolor\": \"#434343\", \"titlefont\": {\"color\": \"#D9D9D9\"}}, \"height\": 587, \"yaxis1\": {\"tickfont\": {\"color\": \"#C2C2C2\"}, \"title\": \"\", \"showgrid\": true, \"zerolinecolor\": \"#666570\", \"gridcolor\": \"#434343\", \"titlefont\": {\"color\": \"#D9D9D9\"}}, \"width\": 1116, \"titlefont\": {\"color\": \"#D9D9D9\"}, \"margin\": {\"r\": 100, \"b\": 80, \"l\": 100, \"t\": 80}, \"legend\": {\"bgcolor\": \"#151516\", \"font\": {\"color\": \"#D9D9D9\"}}}, {\"linkText\": \"Export to plot.ly\", \"showLink\": false})});</script>"
      ],
      "text/plain": [
       "<IPython.core.display.HTML object>"
      ]
     },
     "metadata": {},
     "output_type": "display_data"
    }
   ],
   "source": [
    "missions.groupby(['player','diplomatic_target_house']).count()['episode'].unstack().fillna(0).iplot(\n",
    "            kind='heatmap',\n",
    "            colorscale='ylgnbu',\n",
    "            title='Diplomatic Target Houses by Player in {}'.format(LEAGUE.title()),\n",
    "            xTitle='Players',\n",
    "            margin=(100,100,80,80))"
   ]
  },
  {
   "cell_type": "code",
   "execution_count": 104,
   "metadata": {
    "collapsed": false,
    "slideshow": {
     "slide_type": "slide"
    }
   },
   "outputs": [
    {
     "data": {
      "text/html": [
       "<div id=\"71d7f742-8c07-4147-b6a4-5c3f3caa4a9c\" style=\"height: 587; width: 1116px;\" class=\"plotly-graph-div\"></div><script type=\"text/javascript\">require([\"plotly\"], function(Plotly) { window.PLOTLYENV=window.PLOTLYENV || {};window.PLOTLYENV.BASE_URL=\"https://plot.ly\";Plotly.newPlot(\"71d7f742-8c07-4147-b6a4-5c3f3caa4a9c\", [{\"name\": \"None\", \"text\": \"\", \"y\": [0.0, 1.0, 0.0, 4.0, 1.0, 1.0, 1.0, 1.0, 4.0, 0.0, 0.0], \"marker\": {\"color\": \"rgba(255, 153, 51, 0.6)\", \"line\": {\"color\": \"rgba(255, 153, 51, 1.0)\", \"width\": 1}}, \"x\": [\"Adrien\", \"Alissa\", \"Denis\", \"James\", \"Kai\", \"Kristin\", \"Krystyna\", \"Lance\", \"Lucia\", \"Michelle\", \"Patti\"], \"type\": \"bar\", \"orientation\": \"v\"}], {\"title\": \"Rounds Diplomatic Agents spent on the Bench in Essos\", \"paper_bgcolor\": \"#151516\", \"plot_bgcolor\": \"#151516\", \"xaxis1\": {\"tickfont\": {\"color\": \"#C2C2C2\"}, \"title\": \"\", \"showgrid\": true, \"zerolinecolor\": \"#666570\", \"gridcolor\": \"#434343\", \"titlefont\": {\"color\": \"#D9D9D9\"}}, \"height\": 587, \"yaxis1\": {\"tickfont\": {\"color\": \"#C2C2C2\"}, \"title\": \"\", \"showgrid\": true, \"zerolinecolor\": \"#666570\", \"gridcolor\": \"#434343\", \"titlefont\": {\"color\": \"#D9D9D9\"}}, \"width\": 1116, \"titlefont\": {\"color\": \"#D9D9D9\"}, \"legend\": {\"bgcolor\": \"#151516\", \"font\": {\"color\": \"#D9D9D9\"}}}, {\"linkText\": \"Export to plot.ly\", \"showLink\": false})});</script>"
      ],
      "text/plain": [
       "<IPython.core.display.HTML object>"
      ]
     },
     "metadata": {},
     "output_type": "display_data"
    }
   ],
   "source": [
    "missions.groupby(['player','diplomatic_target_house']).count()['episode'].unstack().fillna(0)['None'].iplot(kind='bar', title='Rounds Diplomatic Agents spent on the Bench in {}'.format(LEAGUE.title()))"
   ]
  },
  {
   "cell_type": "code",
   "execution_count": 105,
   "metadata": {
    "collapsed": false,
    "slideshow": {
     "slide_type": "slide"
    }
   },
   "outputs": [
    {
     "data": {
      "text/html": [
       "<div id=\"48547ae3-5a50-4733-b2a1-adda2e277bc1\" style=\"height: 587; width: 1116px;\" class=\"plotly-graph-div\"></div><script type=\"text/javascript\">require([\"plotly\"], function(Plotly) { window.PLOTLYENV=window.PLOTLYENV || {};window.PLOTLYENV.BASE_URL=\"https://plot.ly\";Plotly.newPlot(\"48547ae3-5a50-4733-b2a1-adda2e277bc1\", [{\"y\": [\"None\", \"arryn\", \"bolton\", \"greyjoy\", \"lannister\", \"meereen\", \"nightswatch\", \"stark\", \"targaryen\", \"tyrell\"], \"x\": [\"Adrien\", \"Alissa\", \"Denis\", \"James\", \"Kai\", \"Kristin\", \"Krystyna\", \"Lance\", \"Lucia\", \"Michelle\", \"Patti\"], \"z\": [[0.0, 2.0, 1.0, 4.0, 3.0, 0.0, 2.0, 2.0, 2.0, 1.0, 7.0], [0.0, 0.0, 0.0, 1.0, 0.0, 0.0, 0.0, 0.0, 1.0, 0.0, 0.0], [0.0, 0.0, 1.0, 2.0, 1.0, 1.0, 3.0, 0.0, 1.0, 0.0, 1.0], [0.0, 1.0, 2.0, 0.0, 0.0, 0.0, 0.0, 1.0, 1.0, 0.0, 0.0], [0.0, 1.0, 0.0, 0.0, 0.0, 0.0, 0.0, 1.0, 0.0, 0.0, 0.0], [0.0, 3.0, 0.0, 1.0, 0.0, 0.0, 0.0, 2.0, 3.0, 0.0, 0.0], [2.0, 0.0, 0.0, 0.0, 0.0, 1.0, 0.0, 1.0, 0.0, 0.0, 0.0], [1.0, 0.0, 0.0, 1.0, 1.0, 0.0, 5.0, 0.0, 0.0, 0.0, 1.0], [0.0, 2.0, 1.0, 1.0, 0.0, 0.0, 0.0, 2.0, 0.0, 0.0, 0.0], [1.0, 1.0, 2.0, 0.0, 0.0, 0.0, 0.0, 1.0, 1.0, 0.0, 0.0]], \"type\": \"heatmap\", \"colorscale\": [[0.0, \"rgb(255,255,217)\"], [0.125, \"rgb(237,248,177)\"], [0.25, \"rgb(199,233,180)\"], [0.375, \"rgb(127,205,187)\"], [0.5, \"rgb(65,182,196)\"], [0.625, \"rgb(29,145,192)\"], [0.75, \"rgb(34,94,168)\"], [0.875, \"rgb(37,52,148)\"], [1.0, \"rgb(8,29,88)\"]]}], {\"title\": \"Assassination Target Houses by Player in Essos\", \"paper_bgcolor\": \"#151516\", \"plot_bgcolor\": \"#151516\", \"xaxis1\": {\"tickfont\": {\"color\": \"#C2C2C2\"}, \"title\": \"Players\", \"showgrid\": true, \"zerolinecolor\": \"#666570\", \"gridcolor\": \"#434343\", \"titlefont\": {\"color\": \"#D9D9D9\"}}, \"height\": 587, \"yaxis1\": {\"tickfont\": {\"color\": \"#C2C2C2\"}, \"title\": \"\", \"showgrid\": true, \"zerolinecolor\": \"#666570\", \"gridcolor\": \"#434343\", \"titlefont\": {\"color\": \"#D9D9D9\"}}, \"width\": 1116, \"titlefont\": {\"color\": \"#D9D9D9\"}, \"legend\": {\"bgcolor\": \"#151516\", \"font\": {\"color\": \"#D9D9D9\"}}}, {\"linkText\": \"Export to plot.ly\", \"showLink\": false})});</script>"
      ],
      "text/plain": [
       "<IPython.core.display.HTML object>"
      ]
     },
     "metadata": {},
     "output_type": "display_data"
    }
   ],
   "source": [
    "missions.groupby(['player','assassination_target_house']).count()['episode'].unstack().fillna(0).iplot(\n",
    "            kind='heatmap',\n",
    "            colorscale='ylgnbu',\n",
    "            title='Assassination Target Houses by Player in {}'.format(LEAGUE.title()),\n",
    "            xTitle='Players')"
   ]
  },
  {
   "cell_type": "code",
   "execution_count": 106,
   "metadata": {
    "collapsed": false,
    "slideshow": {
     "slide_type": "slide"
    }
   },
   "outputs": [
    {
     "data": {
      "text/html": [
       "<div id=\"e8eb9ca8-06b4-4778-b235-785ff5bf61d8\" style=\"height: 587; width: 1116px;\" class=\"plotly-graph-div\"></div><script type=\"text/javascript\">require([\"plotly\"], function(Plotly) { window.PLOTLYENV=window.PLOTLYENV || {};window.PLOTLYENV.BASE_URL=\"https://plot.ly\";Plotly.newPlot(\"e8eb9ca8-06b4-4778-b235-785ff5bf61d8\", [{\"name\": \"None\", \"text\": \"\", \"y\": [0.0, 2.0, 1.0, 4.0, 3.0, 0.0, 2.0, 2.0, 2.0, 1.0, 7.0], \"marker\": {\"color\": \"rgba(255, 153, 51, 0.6)\", \"line\": {\"color\": \"rgba(255, 153, 51, 1.0)\", \"width\": 1}}, \"x\": [\"Adrien\", \"Alissa\", \"Denis\", \"James\", \"Kai\", \"Kristin\", \"Krystyna\", \"Lance\", \"Lucia\", \"Michelle\", \"Patti\"], \"type\": \"bar\", \"orientation\": \"v\"}], {\"title\": \"Rounds Assassins spent on the Bench in Essos\", \"paper_bgcolor\": \"#151516\", \"plot_bgcolor\": \"#151516\", \"xaxis1\": {\"tickfont\": {\"color\": \"#C2C2C2\"}, \"title\": \"\", \"showgrid\": true, \"zerolinecolor\": \"#666570\", \"gridcolor\": \"#434343\", \"titlefont\": {\"color\": \"#D9D9D9\"}}, \"height\": 587, \"yaxis1\": {\"tickfont\": {\"color\": \"#C2C2C2\"}, \"title\": \"\", \"showgrid\": true, \"zerolinecolor\": \"#666570\", \"gridcolor\": \"#434343\", \"titlefont\": {\"color\": \"#D9D9D9\"}}, \"width\": 1116, \"titlefont\": {\"color\": \"#D9D9D9\"}, \"legend\": {\"bgcolor\": \"#151516\", \"font\": {\"color\": \"#D9D9D9\"}}}, {\"linkText\": \"Export to plot.ly\", \"showLink\": false})});</script>"
      ],
      "text/plain": [
       "<IPython.core.display.HTML object>"
      ]
     },
     "metadata": {},
     "output_type": "display_data"
    }
   ],
   "source": [
    "missions.groupby(['player','assassination_target_house']).count()['episode'].unstack().fillna(0)['None'].iplot(kind='bar', title='Rounds Assassins spent on the Bench in {}'.format(LEAGUE.title()))"
   ]
  },
  {
   "cell_type": "code",
   "execution_count": 107,
   "metadata": {
    "collapsed": false,
    "slideshow": {
     "slide_type": "slide"
    }
   },
   "outputs": [
    {
     "data": {
      "text/html": [
       "<div id=\"ba486fcc-ce0a-4b0a-b9a3-ad680e1d0c6c\" style=\"height: 587; width: 1116px;\" class=\"plotly-graph-div\"></div><script type=\"text/javascript\">require([\"plotly\"], function(Plotly) { window.PLOTLYENV=window.PLOTLYENV || {};window.PLOTLYENV.BASE_URL=\"https://plot.ly\";Plotly.newPlot(\"ba486fcc-ce0a-4b0a-b9a3-ad680e1d0c6c\", [{\"name\": null, \"text\": \"\", \"y\": [100.0, 350.0, 500.0, 125.0, 400.0, 0.0, 100.0, 150.0, 300.0, 100.0, 100.0, 0.0, 100.0, 0.0, 100.0, 0.0, 200.0, 400.0, 100.0, 300.0, 25.0, 200.0, 200.0, 100.0, 0.0, 300.0, 100.0, 100.0, 200.0, 100.0, 100.0, 100.0, 100.0, 100.0, 0.0, 600.0, 100.0, 100.0, 100.0], \"marker\": {\"color\": \"rgba(255, 153, 51, 0.6)\", \"line\": {\"color\": \"rgba(255, 153, 51, 1.0)\", \"width\": 1}}, \"x\": [\"ahko\", \"aryastark\", \"branstark\", \"brienneoftarth\", \"bronn\", \"cerseilannister\", \"daarionaharis\", \"daenerystargaryen\", \"davosseaworth\", \"eurongreyjoy\", \"forzo\", \"gregorclegane\", \"highsparrow\", \"hodor\", \"izembaro\", \"jaimelannister\", \"jaqenhghar\", \"jonsnow\", \"kinvara\", \"margaerytyrell\", \"meerareed\", \"missandei\", \"moro\", \"olennatyrell\", \"osha\", \"petyrbaelish\", \"qyburn\", \"ramsaybolton\", \"razdalmoeraz\", \"roosebolton\", \"samwelltarly\", \"theongreyjoy\", \"thoros\", \"threeeyedraven\", \"tyenesand\", \"tyrionlannister\", \"wunwun\", \"yaragreyjoy\", \"yezzanzoqaggaz\"], \"type\": \"bar\", \"orientation\": \"v\"}], {\"title\": \"Remaining Health on Roster in Essos\", \"paper_bgcolor\": \"#151516\", \"plot_bgcolor\": \"#151516\", \"xaxis1\": {\"tickfont\": {\"color\": \"#C2C2C2\"}, \"title\": \"\", \"showgrid\": true, \"zerolinecolor\": \"#666570\", \"gridcolor\": \"#434343\", \"titlefont\": {\"color\": \"#D9D9D9\"}}, \"height\": 587, \"yaxis1\": {\"tickfont\": {\"color\": \"#C2C2C2\"}, \"title\": \"\", \"showgrid\": true, \"zerolinecolor\": \"#666570\", \"gridcolor\": \"#434343\", \"titlefont\": {\"color\": \"#D9D9D9\"}}, \"width\": 1116, \"titlefont\": {\"color\": \"#D9D9D9\"}, \"legend\": {\"bgcolor\": \"#151516\", \"font\": {\"color\": \"#D9D9D9\"}}}, {\"linkText\": \"Export to plot.ly\", \"showLink\": false})});</script>"
      ],
      "text/plain": [
       "<IPython.core.display.HTML object>"
      ]
     },
     "metadata": {},
     "output_type": "display_data"
    }
   ],
   "source": [
    "game_rosters.T.sum().iplot(\n",
    "    kind='bar',\n",
    "    title='Remaining Health on Roster in {}'.format(LEAGUE.title()))"
   ]
  },
  {
   "cell_type": "code",
   "execution_count": 108,
   "metadata": {
    "collapsed": false,
    "slideshow": {
     "slide_type": "skip"
    }
   },
   "outputs": [],
   "source": [
    "# TODO : How many times did BOLTON ability save him?!"
   ]
  },
  {
   "cell_type": "markdown",
   "metadata": {
    "slideshow": {
     "slide_type": "slide"
    }
   },
   "source": [
    "### Leaderboard"
   ]
  },
  {
   "cell_type": "markdown",
   "metadata": {
    "slideshow": {
     "slide_type": "slide"
    }
   },
   "source": [
    "# And the Winner is...."
   ]
  },
  {
   "cell_type": "code",
   "execution_count": 109,
   "metadata": {
    "collapsed": false,
    "slideshow": {
     "slide_type": "fragment"
    }
   },
   "outputs": [
    {
     "data": {
      "text/html": [
       "<div id=\"26f567a2-fc38-461c-bbad-6dca01d2f166\" style=\"height: 587; width: 1116px;\" class=\"plotly-graph-div\"></div><script type=\"text/javascript\">require([\"plotly\"], function(Plotly) { window.PLOTLYENV=window.PLOTLYENV || {};window.PLOTLYENV.BASE_URL=\"https://plot.ly\";Plotly.newPlot(\"26f567a2-fc38-461c-bbad-6dca01d2f166\", [{\"name\": \"Lance\", \"text\": \"\", \"mode\": \"lines\", \"y\": [109.6, 765.2, 1567.6, 2010.0, 2366.0, 3096.4, 3770.0, 4617.6, 5671.200000000001, 5926.800000000001], \"x\": [51, 52, 53, 54, 55, 56, 57, 58, 59, 60], \"line\": {\"color\": \"rgba(255, 255, 204, 1.0)\", \"width\": 1.3, \"dash\": \"solid\"}, \"type\": \"scatter\"}, {\"name\": \"Krystyna\", \"text\": \"\", \"mode\": \"lines\", \"y\": [396.8, 674.4, 1045.6, 1738.3999999999999, 2647.2, 2647.2, 3043.2, 3451.2, 4276.8, 5036.0], \"x\": [51, 52, 53, 54, 55, 56, 57, 58, 59, 60], \"line\": {\"color\": \"rgba(255, 237, 160, 1.0)\", \"width\": 1.3, \"dash\": \"solid\"}, \"type\": \"scatter\"}, {\"name\": \"Alissa\", \"text\": \"\", \"mode\": \"lines\", \"y\": [168.0, 604.8, 1484.8, 1911.2, 2421.2000000000003, 3022.8, 3692.4, 4405.2, 4437.2, 5030.8], \"x\": [51, 52, 53, 54, 55, 56, 57, 58, 59, 60], \"line\": {\"color\": \"rgba(254, 217, 118, 1.0)\", \"width\": 1.3, \"dash\": \"solid\"}, \"type\": \"scatter\"}, {\"name\": \"Kelvin\", \"text\": \"\", \"mode\": \"lines\", \"y\": [216.8, 576.0, 1220.0, 1762.3999999999999, 1943.2, 2575.6, 3335.6, 3498.8, 3620.4, 3880.8], \"x\": [51, 52, 53, 54, 55, 56, 57, 58, 59, 60], \"line\": {\"color\": \"rgba(254, 178, 76, 1.0)\", \"width\": 1.3, \"dash\": \"solid\"}, \"type\": \"scatter\"}, {\"name\": \"Michelle\", \"text\": \"\", \"mode\": \"lines\", \"y\": [451.6, 735.6, 1178.8000000000002, 1745.2, 1965.2000000000003, 2582.8, 2902.8, 3245.2, 3391.6, 3645.6], \"x\": [51, 52, 53, 54, 55, 56, 57, 58, 59, 60], \"line\": {\"color\": \"rgba(253, 141, 60, 1.0)\", \"width\": 1.3, \"dash\": \"solid\"}, \"type\": \"scatter\"}, {\"name\": \"Lucia\", \"text\": \"\", \"mode\": \"lines\", \"y\": [642.0, 1382.0, 1890.8000000000002, 2162.4, 2220.0, 2585.6, 3177.6, 3493.2, 3529.6, 3622.4], \"x\": [51, 52, 53, 54, 55, 56, 57, 58, 59, 60], \"line\": {\"color\": \"rgba(252, 78, 42, 1.0)\", \"width\": 1.3, \"dash\": \"solid\"}, \"type\": \"scatter\"}, {\"name\": \"Adrien\", \"text\": \"\", \"mode\": \"lines\", \"y\": [374.8, 964.0, 1400.4, 1673.6000000000001, 1741.2, 2138.0, 3055.9999999999995, 3167.2, 3368.0, 3570.4], \"x\": [51, 52, 53, 54, 55, 56, 57, 58, 59, 60], \"line\": {\"color\": \"rgba(227, 26, 28, 1.0)\", \"width\": 1.3, \"dash\": \"solid\"}, \"type\": \"scatter\"}, {\"name\": \"Denis\", \"text\": \"\", \"mode\": \"lines\", \"y\": [96.0, 459.6, 726.0, 1143.6, 1825.6, 1985.6, 2130.4, 2172.0, 2301.6, 3193.6], \"x\": [51, 52, 53, 54, 55, 56, 57, 58, 59, 60], \"line\": {\"color\": \"rgba(189, 0, 38, 1.0)\", \"width\": 1.3, \"dash\": \"solid\"}, \"type\": \"scatter\"}, {\"name\": \"Kristin\", \"text\": \"\", \"mode\": \"lines\", \"y\": [230.4, 705.6, 1313.6, 1364.8, 2216.8, 2272.8, 2272.8, 2600.8, 2600.8, 2648.8], \"x\": [51, 52, 53, 54, 55, 56, 57, 58, 59, 60], \"line\": {\"color\": \"rgba(128, 0, 38, 1.0)\", \"width\": 1.3, \"dash\": \"solid\"}, \"type\": \"scatter\"}, {\"name\": \"James\", \"text\": \"\", \"mode\": \"lines\", \"y\": [325.6, 881.6, 1592.8000000000002, 1889.6000000000001, 1982.4, 1998.4, 2238.4000000000005, 2310.4, 2370.4, 2378.4], \"x\": [51, 52, 53, 54, 55, 56, 57, 58, 59, 60], \"line\": {\"color\": \"rgba(128, 0, 38, 0.89999999999999991)\", \"width\": 1.3, \"dash\": \"solid\"}, \"type\": \"scatter\"}, {\"name\": \"Kai\", \"text\": \"\", \"mode\": \"lines\", \"y\": [296.0, 433.6, 729.6, 1108.8, 1284.0, 1380.0, 1831.2, 1879.2, 2010.4, 2144.0], \"x\": [51, 52, 53, 54, 55, 56, 57, 58, 59, 60], \"line\": {\"color\": \"rgba(255, 255, 204, 0.89999999999999991)\", \"width\": 1.3, \"dash\": \"solid\"}, \"type\": \"scatter\"}, {\"name\": \"Patti\", \"text\": \"\", \"mode\": \"lines\", \"y\": [0.0, 189.0, 357.0, 399.0, 848.4000000000001, 999.6000000000001, 1176.0, 1260.0000000000002, 1860.6000000000001, 1860.6000000000001], \"x\": [51, 52, 53, 54, 55, 56, 57, 58, 59, 60], \"line\": {\"color\": \"rgba(255, 237, 160, 0.89999999999999991)\", \"width\": 1.3, \"dash\": \"solid\"}, \"type\": \"scatter\"}], {\"title\": \"Cummulative Score per Player in Essos\", \"paper_bgcolor\": \"#151516\", \"plot_bgcolor\": \"#151516\", \"xaxis1\": {\"tickfont\": {\"color\": \"#C2C2C2\"}, \"title\": \"Episode\", \"showgrid\": true, \"zerolinecolor\": \"#666570\", \"gridcolor\": \"#434343\", \"titlefont\": {\"color\": \"#D9D9D9\"}}, \"height\": 587, \"yaxis1\": {\"tickfont\": {\"color\": \"#C2C2C2\"}, \"title\": \"\", \"showgrid\": true, \"zerolinecolor\": \"#666570\", \"gridcolor\": \"#434343\", \"titlefont\": {\"color\": \"#D9D9D9\"}}, \"width\": 1116, \"titlefont\": {\"color\": \"#D9D9D9\"}, \"legend\": {\"bgcolor\": \"#151516\", \"font\": {\"color\": \"#D9D9D9\"}}}, {\"linkText\": \"Export to plot.ly\", \"showLink\": false})});</script>"
      ],
      "text/plain": [
       "<IPython.core.display.HTML object>"
      ]
     },
     "metadata": {},
     "output_type": "display_data"
    }
   ],
   "source": [
    "leaderboard.T.iplot(kind='line',\n",
    "            colorscale='ylorrd',\n",
    "            title='Cummulative Score per Player in {}'.format(LEAGUE.title()),\n",
    "            xTitle='Episode')"
   ]
  },
  {
   "cell_type": "code",
   "execution_count": 110,
   "metadata": {
    "collapsed": false,
    "slideshow": {
     "slide_type": "slide"
    }
   },
   "outputs": [
    {
     "data": {
      "text/html": [
       "<div id=\"9b479e98-395f-4b03-ae7b-dd94bb5a3b55\" style=\"height: 587; width: 1116px;\" class=\"plotly-graph-div\"></div><script type=\"text/javascript\">require([\"plotly\"], function(Plotly) { window.PLOTLYENV=window.PLOTLYENV || {};window.PLOTLYENV.BASE_URL=\"https://plot.ly\";Plotly.newPlot(\"9b479e98-395f-4b03-ae7b-dd94bb5a3b55\", [{\"y\": [\"Patti\", \"Kai\", \"James\", \"Kristin\", \"Denis\", \"Adrien\", \"Lucia\", \"Michelle\", \"Kelvin\", \"Alissa\", \"Krystyna\", \"Lance\"], \"x\": [51, 52, 53, 54, 55, 56, 57, 58, 59, 60], \"z\": [[0.0, 189.0, 357.0, 399.0, 848.4000000000001, 999.6000000000001, 1176.0, 1260.0000000000002, 1860.6000000000001, 1860.6000000000001], [296.0, 433.6, 729.6, 1108.8, 1284.0, 1380.0, 1831.2, 1879.2, 2010.4, 2144.0], [325.6, 881.6, 1592.8000000000002, 1889.6000000000001, 1982.4, 1998.4, 2238.4000000000005, 2310.4, 2370.4, 2378.4], [230.4, 705.6, 1313.6, 1364.8, 2216.8, 2272.8, 2272.8, 2600.8, 2600.8, 2648.8], [96.0, 459.6, 726.0, 1143.6, 1825.6, 1985.6, 2130.4, 2172.0, 2301.6, 3193.6], [374.8, 964.0, 1400.4, 1673.6000000000001, 1741.2, 2138.0, 3055.9999999999995, 3167.2, 3368.0, 3570.4], [642.0, 1382.0, 1890.8000000000002, 2162.4, 2220.0, 2585.6, 3177.6, 3493.2, 3529.6, 3622.4], [451.6, 735.6, 1178.8000000000002, 1745.2, 1965.2000000000003, 2582.8, 2902.8, 3245.2, 3391.6, 3645.6], [216.8, 576.0, 1220.0, 1762.3999999999999, 1943.2, 2575.6, 3335.6, 3498.8, 3620.4, 3880.8], [168.0, 604.8, 1484.8, 1911.2, 2421.2000000000003, 3022.8, 3692.4, 4405.2, 4437.2, 5030.8], [396.8, 674.4, 1045.6, 1738.3999999999999, 2647.2, 2647.2, 3043.2, 3451.2, 4276.8, 5036.0], [109.6, 765.2, 1567.6, 2010.0, 2366.0, 3096.4, 3770.0, 4617.6, 5671.200000000001, 5926.800000000001]], \"type\": \"heatmap\", \"colorscale\": [[0.0, \"rgb(255,255,204)\"], [0.125, \"rgb(255,237,160)\"], [0.25, \"rgb(254,217,118)\"], [0.375, \"rgb(254,178,76)\"], [0.5, \"rgb(253,141,60)\"], [0.625, \"rgb(252,78,42)\"], [0.75, \"rgb(227,26,28)\"], [0.875, \"rgb(189,0,38)\"], [1.0, \"rgb(128,0,38)\"]]}], {\"title\": \"Cummulative Score per Player in Essos\", \"paper_bgcolor\": \"#151516\", \"plot_bgcolor\": \"#151516\", \"xaxis1\": {\"tickfont\": {\"color\": \"#C2C2C2\"}, \"title\": \"Episode\", \"showgrid\": true, \"zerolinecolor\": \"#666570\", \"gridcolor\": \"#434343\", \"titlefont\": {\"color\": \"#D9D9D9\"}}, \"height\": 587, \"yaxis1\": {\"tickfont\": {\"color\": \"#C2C2C2\"}, \"title\": \"\", \"showgrid\": true, \"zerolinecolor\": \"#666570\", \"gridcolor\": \"#434343\", \"titlefont\": {\"color\": \"#D9D9D9\"}}, \"width\": 1116, \"titlefont\": {\"color\": \"#D9D9D9\"}, \"legend\": {\"bgcolor\": \"#151516\", \"font\": {\"color\": \"#D9D9D9\"}}}, {\"linkText\": \"Export to plot.ly\", \"showLink\": false})});</script>"
      ],
      "text/plain": [
       "<IPython.core.display.HTML object>"
      ]
     },
     "metadata": {},
     "output_type": "display_data"
    }
   ],
   "source": [
    "leaderboard.sort_values(EPISODE).T.iplot(kind='heatmap',\n",
    "            colorscale='ylorrd',\n",
    "            title='Cummulative Score per Player in {}'.format(LEAGUE.title()),\n",
    "            xTitle='Episode')"
   ]
  },
  {
   "cell_type": "code",
   "execution_count": 111,
   "metadata": {
    "collapsed": false,
    "scrolled": true,
    "slideshow": {
     "slide_type": "slide"
    }
   },
   "outputs": [
    {
     "data": {
      "text/html": [
       "<div id=\"886bff88-eda9-447f-bbd3-de4a2a4c23ce\" style=\"height: 587; width: 1116px;\" class=\"plotly-graph-div\"></div><script type=\"text/javascript\">require([\"plotly\"], function(Plotly) { window.PLOTLYENV=window.PLOTLYENV || {};window.PLOTLYENV.BASE_URL=\"https://plot.ly\";Plotly.newPlot(\"886bff88-eda9-447f-bbd3-de4a2a4c23ce\", [{\"name\": \"Lance\", \"text\": \"\", \"mode\": \"lines\", \"y\": [10, 4, 3, 2, 3, 1, 1, 1, 1, 1], \"x\": [51, 52, 53, 54, 55, 56, 57, 58, 59, 60], \"line\": {\"color\": \"rgba(255, 255, 204, 1.0)\", \"width\": 1.3, \"dash\": \"solid\"}, \"type\": \"scatter\"}, {\"name\": \"Krystyna\", \"text\": \"\", \"mode\": \"lines\", \"y\": [3, 7, 9, 7, 1, 3, 6, 5, 3, 2], \"x\": [51, 52, 53, 54, 55, 56, 57, 58, 59, 60], \"line\": {\"color\": \"rgba(255, 237, 160, 1.0)\", \"width\": 1.3, \"dash\": \"solid\"}, \"type\": \"scatter\"}, {\"name\": \"Alissa\", \"text\": \"\", \"mode\": \"lines\", \"y\": [9, 8, 4, 3, 2, 2, 2, 2, 2, 3], \"x\": [51, 52, 53, 54, 55, 56, 57, 58, 59, 60], \"line\": {\"color\": \"rgba(254, 217, 118, 1.0)\", \"width\": 1.3, \"dash\": \"solid\"}, \"type\": \"scatter\"}, {\"name\": \"Kelvin\", \"text\": \"\", \"mode\": \"lines\", \"y\": [8, 9, 7, 5, 8, 6, 3, 3, 4, 4], \"x\": [51, 52, 53, 54, 55, 56, 57, 58, 59, 60], \"line\": {\"color\": \"rgba(254, 178, 76, 1.0)\", \"width\": 1.3, \"dash\": \"solid\"}, \"type\": \"scatter\"}, {\"name\": \"Michelle\", \"text\": \"\", \"mode\": \"lines\", \"y\": [2, 5, 8, 6, 7, 5, 7, 6, 6, 5], \"x\": [51, 52, 53, 54, 55, 56, 57, 58, 59, 60], \"line\": {\"color\": \"rgba(253, 141, 60, 1.0)\", \"width\": 1.3, \"dash\": \"solid\"}, \"type\": \"scatter\"}, {\"name\": \"Lucia\", \"text\": \"\", \"mode\": \"lines\", \"y\": [1, 1, 1, 1, 4, 4, 4, 4, 5, 6], \"x\": [51, 52, 53, 54, 55, 56, 57, 58, 59, 60], \"line\": {\"color\": \"rgba(252, 78, 42, 1.0)\", \"width\": 1.3, \"dash\": \"solid\"}, \"type\": \"scatter\"}, {\"name\": \"Adrien\", \"text\": \"\", \"mode\": \"lines\", \"y\": [4, 2, 5, 8, 10, 8, 5, 7, 7, 7], \"x\": [51, 52, 53, 54, 55, 56, 57, 58, 59, 60], \"line\": {\"color\": \"rgba(227, 26, 28, 1.0)\", \"width\": 1.3, \"dash\": \"solid\"}, \"type\": \"scatter\"}, {\"name\": \"Denis\", \"text\": \"\", \"mode\": \"lines\", \"y\": [11, 10, 11, 10, 9, 10, 10, 10, 10, 8], \"x\": [51, 52, 53, 54, 55, 56, 57, 58, 59, 60], \"line\": {\"color\": \"rgba(189, 0, 38, 1.0)\", \"width\": 1.3, \"dash\": \"solid\"}, \"type\": \"scatter\"}, {\"name\": \"Kristin\", \"text\": \"\", \"mode\": \"lines\", \"y\": [7, 6, 6, 9, 5, 7, 8, 8, 8, 9], \"x\": [51, 52, 53, 54, 55, 56, 57, 58, 59, 60], \"line\": {\"color\": \"rgba(128, 0, 38, 1.0)\", \"width\": 1.3, \"dash\": \"solid\"}, \"type\": \"scatter\"}, {\"name\": \"James\", \"text\": \"\", \"mode\": \"lines\", \"y\": [5, 3, 2, 4, 6, 9, 9, 9, 9, 10], \"x\": [51, 52, 53, 54, 55, 56, 57, 58, 59, 60], \"line\": {\"color\": \"rgba(128, 0, 38, 0.89999999999999991)\", \"width\": 1.3, \"dash\": \"solid\"}, \"type\": \"scatter\"}, {\"name\": \"Kai\", \"text\": \"\", \"mode\": \"lines\", \"y\": [6, 11, 10, 11, 11, 11, 11, 11, 11, 11], \"x\": [51, 52, 53, 54, 55, 56, 57, 58, 59, 60], \"line\": {\"color\": \"rgba(255, 255, 204, 0.89999999999999991)\", \"width\": 1.3, \"dash\": \"solid\"}, \"type\": \"scatter\"}, {\"name\": \"Patti\", \"text\": \"\", \"mode\": \"lines\", \"y\": [12, 12, 12, 12, 12, 12, 12, 12, 12, 12], \"x\": [51, 52, 53, 54, 55, 56, 57, 58, 59, 60], \"line\": {\"color\": \"rgba(255, 237, 160, 0.89999999999999991)\", \"width\": 1.3, \"dash\": \"solid\"}, \"type\": \"scatter\"}], {\"yaxis\": {\"color\": \"#EEEEEE\", \"autorange\": \"reversed\"}, \"paper_bgcolor\": \"#151516\", \"plot_bgcolor\": \"#151516\", \"title\": \"Player Rank per Episode in Essos\", \"xaxis1\": {\"tickfont\": {\"color\": \"#C2C2C2\"}, \"title\": \"Episode\", \"showgrid\": true, \"zerolinecolor\": \"#666570\", \"gridcolor\": \"#434343\", \"titlefont\": {\"color\": \"#D9D9D9\"}}, \"height\": 587, \"yaxis1\": {\"tickfont\": {\"color\": \"#C2C2C2\"}, \"title\": \"Rank\", \"showgrid\": true, \"zerolinecolor\": \"#666570\", \"gridcolor\": \"#434343\", \"titlefont\": {\"color\": \"#D9D9D9\"}}, \"width\": 1116, \"titlefont\": {\"color\": \"#D9D9D9\"}, \"legend\": {\"bgcolor\": \"#151516\", \"font\": {\"color\": \"#D9D9D9\"}}}, {\"linkText\": \"Export to plot.ly\", \"showLink\": false})});</script>"
      ],
      "text/plain": [
       "<IPython.core.display.HTML object>"
      ]
     },
     "metadata": {},
     "output_type": "display_data"
    }
   ],
   "source": [
    "import scipy.stats as ss\n",
    "leaderboard.apply(lambda v : len(v) - ss.rankdata(v) + 1).astype(int).T.iplot(kind='line',\n",
    "            colorscale='ylorrd',\n",
    "            title='Player Rank per Episode in {}'.format(LEAGUE.title()),\n",
    "            xTitle='Episode',\n",
    "            yTitle='Rank',\n",
    "            layout_update={\"yaxis\" : {\"autorange\" : \"reversed\",'color':'#EEE'}}                                                                \n",
    ")"
   ]
  },
  {
   "cell_type": "markdown",
   "metadata": {
    "slideshow": {
     "slide_type": "slide"
    }
   },
   "source": [
    "# ... till next year!"
   ]
  }
 ],
 "metadata": {
  "celltoolbar": "Slideshow",
  "kernelspec": {
   "display_name": "Python 2",
   "language": "python",
   "name": "python2"
  },
  "language_info": {
   "codemirror_mode": {
    "name": "ipython",
    "version": 2
   },
   "file_extension": ".py",
   "mimetype": "text/x-python",
   "name": "python",
   "nbconvert_exporter": "python",
   "pygments_lexer": "ipython2",
   "version": "2.7.11"
  },
  "widgets": {
   "state": {},
   "version": "1.0.0"
  }
 },
 "nbformat": 4,
 "nbformat_minor": 0
}
