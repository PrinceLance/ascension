{
 "cells": [
  {
   "cell_type": "code",
   "execution_count": 1,
   "metadata": {
    "collapsed": false
   },
   "outputs": [],
   "source": [
    "import pprint\n",
    "import simplejson\n",
    "import pandas as pd\n",
    "from firebase import firebase\n",
    "\n",
    "url = 'https://ascension.firebaseio.com'\n",
    "firebase = firebase.FirebaseApplication(url, None)\n",
    "base = firebase.get('/', None)"
   ]
  },
  {
   "cell_type": "code",
   "execution_count": 2,
   "metadata": {
    "collapsed": false
   },
   "outputs": [],
   "source": [
    "base[u'character_health'] = {k:v for k,v in base[u'character_health'].iteritems() if v['episode'] < 60}"
   ]
  },
  {
   "cell_type": "code",
   "execution_count": 3,
   "metadata": {
    "collapsed": false
   },
   "outputs": [],
   "source": [
    "missions = {k:v for k,v in base[u'missions'].iteritems() if v['episode'] == '59'}"
   ]
  },
  {
   "cell_type": "code",
   "execution_count": 4,
   "metadata": {
    "collapsed": false
   },
   "outputs": [],
   "source": [
    "character_health = {k:v for k,v in base[u'character_health'].iteritems() if v['episode'] == 59}"
   ]
  },
  {
   "cell_type": "code",
   "execution_count": 5,
   "metadata": {
    "collapsed": true
   },
   "outputs": [],
   "source": [
    "damage = [0,0,25,50,75,100]"
   ]
  },
  {
   "cell_type": "code",
   "execution_count": 6,
   "metadata": {
    "collapsed": false
   },
   "outputs": [
    {
     "name": "stdout",
     "output_type": "stream",
     "text": [
      "FAIL\n",
      "\n",
      "\n",
      "100\n",
      "razdalmoeraz\n",
      "SUCCESS\n",
      "\n",
      "\n",
      "100\n",
      "moro\n",
      "SUCCESS\n",
      "\n",
      "\n",
      "100\n",
      "wunwun\n",
      "SUCCESS\n",
      "\n",
      "\n",
      "100\n",
      "tyrionlannister\n",
      "SUCCESS\n",
      "\n",
      "\n",
      "0\n",
      "moro\n",
      "SUCCESS\n",
      "\n",
      "\n",
      "FAIL\n",
      "\n",
      "\n",
      "100\n",
      "jonsnow\n",
      "SUCCESS\n",
      "\n",
      "\n",
      "FAIL\n",
      "\n",
      "\n",
      "FAIL\n",
      "\n",
      "\n",
      "FAIL\n",
      "\n",
      "\n",
      "FAIL\n",
      "\n",
      "\n"
     ]
    }
   ],
   "source": [
    "for k,m in missions.iteritems():\n",
    "    if m['assassination_target_house']:\n",
    "        h = m['assassination_target_house']\n",
    "        l = m['league']\n",
    "        d = base['characters'][m['assassination_agent']]['violence']\n",
    "        try:\n",
    "            v = base[u'character_health'][l+h+'59']['health']\n",
    "            print v[m['assassination_target_character']]\n",
    "            print m['assassination_target_character']\n",
    "            v[m['assassination_target_character']] = max(v[m['assassination_target_character']] - damage[d], 0)\n",
    "            print 'SUCCESS'\n",
    "        except:\n",
    "            print 'FAIL'\n",
    "\n",
    "        print '\\n'"
   ]
  },
  {
   "cell_type": "code",
   "execution_count": 7,
   "metadata": {
    "collapsed": false,
    "scrolled": false
   },
   "outputs": [],
   "source": [
    "# {k:v for k,v in base[u'character_health'].iteritems() if v['episode'] == 54}"
   ]
  },
  {
   "cell_type": "code",
   "execution_count": 7,
   "metadata": {
    "collapsed": false
   },
   "outputs": [],
   "source": [
    "with open('/home/io/character-health-fix.json','w') as json_file:\n",
    "    simplejson.dump(base[u'character_health'], json_file)"
   ]
  }
 ],
 "metadata": {
  "kernelspec": {
   "display_name": "Python 2",
   "language": "python",
   "name": "python2"
  },
  "language_info": {
   "codemirror_mode": {
    "name": "ipython",
    "version": 2
   },
   "file_extension": ".py",
   "mimetype": "text/x-python",
   "name": "python",
   "nbconvert_exporter": "python",
   "pygments_lexer": "ipython2",
   "version": "2.7.11"
  }
 },
 "nbformat": 4,
 "nbformat_minor": 0
}
