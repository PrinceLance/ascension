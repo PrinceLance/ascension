{
 "cells": [
  {
   "cell_type": "code",
   "execution_count": 1,
   "metadata": {
    "collapsed": true
   },
   "outputs": [],
   "source": [
    "import pprint\n",
    "import simplejson\n",
    "import pandas as pd\n",
    "from firebase import firebase\n",
    "\n",
    "url = 'https://ascension.firebaseio.com'\n",
    "firebase = firebase.FirebaseApplication(url, None)\n",
    "base = firebase.get('/', None)"
   ]
  },
  {
   "cell_type": "code",
   "execution_count": 12,
   "metadata": {
    "collapsed": false
   },
   "outputs": [],
   "source": [
    "base[u'character_health'] = {k:v for k,v in base[u'character_health'].iteritems() if v['episode'] < 55}"
   ]
  },
  {
   "cell_type": "code",
   "execution_count": 20,
   "metadata": {
    "collapsed": false
   },
   "outputs": [],
   "source": [
    "missions = {k:v for k,v in base[u'missions'].iteritems() if v['episode'] == '54'}"
   ]
  },
  {
   "cell_type": "code",
   "execution_count": 35,
   "metadata": {
    "collapsed": false
   },
   "outputs": [],
   "source": [
    "character_health = {k:v for k,v in base[u'character_health'].iteritems() if v['episode'] == 54}"
   ]
  },
  {
   "cell_type": "code",
   "execution_count": 49,
   "metadata": {
    "collapsed": true
   },
   "outputs": [],
   "source": [
    "damage = [0,0,25,50,75,100]"
   ]
  },
  {
   "cell_type": "code",
   "execution_count": 55,
   "metadata": {
    "collapsed": false
   },
   "outputs": [
    {
     "name": "stdout",
     "output_type": "stream",
     "text": [
      "100\n",
      "daenerystargaryen\n",
      "SUCCESS\n",
      "\n",
      "\n",
      "0\n",
      "tyrionlannister\n",
      "SUCCESS\n",
      "\n",
      "\n",
      "100\n",
      "daenerystargaryen\n",
      "SUCCESS\n",
      "\n",
      "\n",
      "FAIL\n",
      "\n",
      "\n",
      "FAIL\n",
      "\n",
      "\n",
      "FAIL\n",
      "\n",
      "\n",
      "FAIL\n",
      "\n",
      "\n",
      "FAIL\n",
      "\n",
      "\n",
      "FAIL\n",
      "\n",
      "\n",
      "FAIL\n",
      "\n",
      "\n",
      "100\n",
      "brienneoftarth\n",
      "SUCCESS\n",
      "\n",
      "\n",
      "100\n",
      "aryastark\n",
      "SUCCESS\n",
      "\n",
      "\n",
      "0\n",
      "aryastark\n",
      "SUCCESS\n",
      "\n",
      "\n",
      "FAIL\n",
      "\n",
      "\n",
      "100\n",
      "tyrionlannister\n",
      "SUCCESS\n",
      "\n",
      "\n",
      "FAIL\n",
      "\n",
      "\n",
      "FAIL\n",
      "\n",
      "\n",
      "100\n",
      "wunwun\n",
      "SUCCESS\n",
      "\n",
      "\n",
      "100\n",
      "jaqenhghar\n",
      "SUCCESS\n",
      "\n",
      "\n"
     ]
    }
   ],
   "source": [
    "for k,m in missions.iteritems():\n",
    "    if m['assassination_target_house']:\n",
    "        h = m['assassination_target_house']\n",
    "        l = m['league']\n",
    "        d = base['characters'][m['assassination_agent']]['violence']\n",
    "        try:\n",
    "            v = base[u'character_health'][l+h+'54']['health']\n",
    "            print v[m['assassination_target_character']]\n",
    "            print m['assassination_target_character']\n",
    "            v[m['assassination_target_character']] = max(v[m['assassination_target_character']] - damage[d], 0)\n",
    "            print 'SUCCESS'\n",
    "        except:\n",
    "            print 'FAIL'\n",
    "\n",
    "        print '\\n'"
   ]
  },
  {
   "cell_type": "code",
   "execution_count": 63,
   "metadata": {
    "collapsed": false,
    "scrolled": false
   },
   "outputs": [],
   "source": [
    "# {k:v for k,v in base[u'character_health'].iteritems() if v['episode'] == 54}"
   ]
  },
  {
   "cell_type": "code",
   "execution_count": 62,
   "metadata": {
    "collapsed": false
   },
   "outputs": [],
   "source": [
    "with open('/home/io/character-health-fix.json','w') as json_file:\n",
    "    simplejson.dump(base[u'character_health'], json_file)"
   ]
  }
 ],
 "metadata": {
  "kernelspec": {
   "display_name": "Python 2",
   "language": "python",
   "name": "python2"
  },
  "language_info": {
   "codemirror_mode": {
    "name": "ipython",
    "version": 2
   },
   "file_extension": ".py",
   "mimetype": "text/x-python",
   "name": "python",
   "nbconvert_exporter": "python",
   "pygments_lexer": "ipython2",
   "version": "2.7.11"
  }
 },
 "nbformat": 4,
 "nbformat_minor": 0
}
