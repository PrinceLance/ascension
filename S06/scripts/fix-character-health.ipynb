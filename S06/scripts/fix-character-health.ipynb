{
 "cells": [
  {
   "cell_type": "code",
   "execution_count": 67,
   "metadata": {
    "collapsed": false
   },
   "outputs": [],
   "source": [
    "import qgrid\n",
    "import pprint\n",
    "import simplejson\n",
    "import pandas as pd\n",
    "\n",
    "from firebase import firebase"
   ]
  },
  {
   "cell_type": "code",
   "execution_count": 124,
   "metadata": {
    "collapsed": true
   },
   "outputs": [],
   "source": [
    "# url = 'https://ascension.firebaseio.com'\n",
    "# firebase = firebase.FirebaseApplication(url, None)\n",
    "# base = firebase.get('/', None)"
   ]
  },
  {
   "cell_type": "code",
   "execution_count": 127,
   "metadata": {
    "collapsed": false,
    "scrolled": false
   },
   "outputs": [
    {
     "name": "stdout",
     "output_type": "stream",
     "text": [
      "essos stark\n",
      "FAIL\n",
      "\n",
      "\n",
      "dragon greyjoy\n",
      "FAIL\n",
      "\n",
      "\n",
      "westeros greyjoy\n",
      "0\n",
      "razdalmoeraz\n",
      "SUCCESS\n",
      "\n",
      "\n",
      "westeros independent\n",
      "0\n",
      "moro\n",
      "SUCCESS\n",
      "\n",
      "\n",
      "essos bolton\n",
      "25\n",
      "wunwun\n",
      "SUCCESS\n",
      "\n",
      "\n",
      "westeros independent\n",
      "0\n",
      "tyrionlannister\n",
      "SUCCESS\n",
      "\n",
      "\n",
      "westeros independent\n",
      "0\n",
      "moro\n",
      "SUCCESS\n",
      "\n",
      "\n",
      "essos lannister\n",
      "FAIL\n",
      "\n",
      "\n",
      "essos greyjoy\n",
      "0\n",
      "jonsnow\n",
      "SUCCESS\n",
      "\n",
      "\n",
      "dragon lannister\n",
      "FAIL\n",
      "\n",
      "\n",
      "westeros greyjoy\n",
      "FAIL\n",
      "\n",
      "\n",
      "westeros greyjoy\n",
      "FAIL\n",
      "\n",
      "\n"
     ]
    }
   ],
   "source": [
    "damage = [0,0,25,50,75,100]\n",
    "\n",
    "for n in range(59,60):\n",
    "    EPISODE = n\n",
    "    ERASE_GAME_EFFECTS = False\n",
    "    \n",
    "    missions = {k:v for k,v in base[u'missions'].iteritems() if v['episode'] == str(EPISODE)}\n",
    "    character_health = {k:v for k,v in base[u'character_health'].iteritems() if v['episode'] == EPISODE}\n",
    "    \n",
    "    for k,m in missions.iteritems():\n",
    "        if m['assassination_target_house']:\n",
    "            h = m['assassination_target_house']\n",
    "            l = m['league']\n",
    "            d = base['characters'][m['assassination_agent']]['violence']\n",
    "            if ERASE_GAME_EFFECTS:\n",
    "                base[u'character_health'][l+h+str(EPISODE)] = base[u'character_health'][l+h+str(EPISODE-1)]\n",
    "                base[u'character_health'][l+h+str(EPISODE)]['episode'] = EPISODE\n",
    "            try:\n",
    "                v = base[u'character_health'][l+h+str(EPISODE)]['health']\n",
    "                print l, h\n",
    "                print v[m['assassination_target_character']]\n",
    "                print m['assassination_target_character']\n",
    "                v[m['assassination_target_character']] = max(v[m['assassination_target_character']] - damage[d], 0)\n",
    "                print 'SUCCESS'\n",
    "            except:\n",
    "                print 'FAIL'\n",
    "\n",
    "            print '\\n'"
   ]
  },
  {
   "cell_type": "code",
   "execution_count": 116,
   "metadata": {
    "collapsed": true
   },
   "outputs": [],
   "source": []
  },
  {
   "cell_type": "code",
   "execution_count": 117,
   "metadata": {
    "collapsed": false
   },
   "outputs": [],
   "source": [
    "# base[u'character_health'] = {k:v for k,v in base[u'character_health'].iteritems() if v['episode'] <= EPISODE}"
   ]
  },
  {
   "cell_type": "code",
   "execution_count": 118,
   "metadata": {
    "collapsed": false
   },
   "outputs": [],
   "source": []
  },
  {
   "cell_type": "code",
   "execution_count": 119,
   "metadata": {
    "collapsed": false
   },
   "outputs": [],
   "source": []
  },
  {
   "cell_type": "code",
   "execution_count": 120,
   "metadata": {
    "collapsed": true
   },
   "outputs": [],
   "source": []
  },
  {
   "cell_type": "code",
   "execution_count": 121,
   "metadata": {
    "collapsed": false
   },
   "outputs": [
    {
     "name": "stdout",
     "output_type": "stream",
     "text": [
      "0\n",
      "theongreyjoy\n",
      "SUCCESS\n",
      "\n",
      "\n",
      "0\n",
      "aryastark\n",
      "SUCCESS\n",
      "\n",
      "\n",
      "0\n",
      "daarionaharis\n",
      "SUCCESS\n",
      "\n",
      "\n",
      "0\n",
      "branstark\n",
      "SUCCESS\n",
      "\n",
      "\n",
      "0\n",
      "hodor\n",
      "SUCCESS\n",
      "\n",
      "\n",
      "0\n",
      "macetyrell\n",
      "SUCCESS\n",
      "\n",
      "\n",
      "FAIL\n",
      "\n",
      "\n",
      "FAIL\n",
      "\n",
      "\n",
      "FAIL\n",
      "\n",
      "\n",
      "0\n",
      "aryastark\n",
      "SUCCESS\n",
      "\n",
      "\n",
      "0\n",
      "melisandre\n",
      "SUCCESS\n",
      "\n",
      "\n",
      "FAIL\n",
      "\n",
      "\n",
      "0\n",
      "osha\n",
      "SUCCESS\n",
      "\n",
      "\n",
      "0\n",
      "qyburn\n",
      "SUCCESS\n",
      "\n",
      "\n",
      "FAIL\n",
      "\n",
      "\n",
      "0\n",
      "qyburn\n",
      "SUCCESS\n",
      "\n",
      "\n",
      "0\n",
      "branstark\n",
      "SUCCESS\n",
      "\n",
      "\n",
      "0\n",
      "margaerytyrell\n",
      "SUCCESS\n",
      "\n",
      "\n",
      "0\n",
      "hodor\n",
      "SUCCESS\n",
      "\n",
      "\n",
      "0\n",
      "ellariasand\n",
      "SUCCESS\n",
      "\n",
      "\n"
     ]
    }
   ],
   "source": []
  },
  {
   "cell_type": "code",
   "execution_count": 122,
   "metadata": {
    "collapsed": false,
    "scrolled": false
   },
   "outputs": [],
   "source": [
    "# {k:v for k,v in base[u'character_health'].iteritems() if v['episode'] == 54}"
   ]
  },
  {
   "cell_type": "code",
   "execution_count": 126,
   "metadata": {
    "collapsed": false
   },
   "outputs": [],
   "source": [
    "with open('/home/io/character-health-fix.json','w') as json_file:\n",
    "    simplejson.dump(base[u'character_health'], json_file)"
   ]
  },
  {
   "cell_type": "code",
   "execution_count": null,
   "metadata": {
    "collapsed": true
   },
   "outputs": [],
   "source": []
  }
 ],
 "metadata": {
  "kernelspec": {
   "display_name": "Python 2",
   "language": "python",
   "name": "python2"
  },
  "language_info": {
   "codemirror_mode": {
    "name": "ipython",
    "version": 2
   },
   "file_extension": ".py",
   "mimetype": "text/x-python",
   "name": "python",
   "nbconvert_exporter": "python",
   "pygments_lexer": "ipython2",
   "version": "2.7.12"
  },
  "widgets": {
   "state": {},
   "version": "1.0.0"
  }
 },
 "nbformat": 4,
 "nbformat_minor": 0
}
