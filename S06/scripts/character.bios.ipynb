{
 "cells": [
  {
   "cell_type": "code",
   "execution_count": 1,
   "metadata": {
    "collapsed": true
   },
   "outputs": [],
   "source": [
    "import pandas as pd\n",
    "import seaborn as sns\n",
    "\n",
    "%matplotlib inline\n",
    "\n",
    "pd.set_option(\"display.max_rows\",101)"
   ]
  },
  {
   "cell_type": "code",
   "execution_count": 2,
   "metadata": {
    "collapsed": true
   },
   "outputs": [],
   "source": [
    "df = pd.read_csv('character.bios.csv')"
   ]
  },
  {
   "cell_type": "code",
   "execution_count": 3,
   "metadata": {
    "collapsed": false
   },
   "outputs": [],
   "source": [
    "df['id'] = df.name.str.replace('The ','').str.replace(' ','').str.replace('\\'','').str.lower()"
   ]
  },
  {
   "cell_type": "code",
   "execution_count": 4,
   "metadata": {
    "collapsed": false
   },
   "outputs": [
    {
     "data": {
      "text/plain": [
       "0          petyrbaelish\n",
       "1             yohnroyce\n",
       "2            robinarryn\n",
       "3                 marei\n",
       "4          ramsaybolton\n",
       "5           roosebolton\n",
       "6           waldabolton\n",
       "7          theongreyjoy\n",
       "8           yaragreyjoy\n",
       "9          balongreyjoy\n",
       "10         eurongreyjoy\n",
       "11           nightsking\n",
       "12           melisandre\n",
       "13           jaqenhghar\n",
       "14            aryastark\n",
       "15       threeeyedraven\n",
       "16                 waif\n",
       "17               thoros\n",
       "18             izembaro\n",
       "19              kinvara\n",
       "20      cerseilannister\n",
       "21       jaimelannister\n",
       "22      tommenbaratheon\n",
       "23                bronn\n",
       "24               qyburn\n",
       "25        gregorclegane\n",
       "26       kevanlannister\n",
       "27              pycelle\n",
       "28                 shae\n",
       "29    myrcellabaratheon\n",
       "30          ellariasand\n",
       "31            obarasand\n",
       "32         doranmartell\n",
       "33          nymeriasand\n",
       "34            areohotah\n",
       "35            tyenesand\n",
       "36      trystanemartell\n",
       "37      tyrionlannister\n",
       "38                varys\n",
       "39             greyworm\n",
       "40            missandei\n",
       "41          highsparrow\n",
       "42        davosseaworth\n",
       "43           walderfrey\n",
       "44       yezzanzoqaggaz\n",
       "45               lancel\n",
       "46               unella\n",
       "47           lotharfrey\n",
       "48         razdalmoeraz\n",
       "49         walderrivers\n",
       "50              jonsnow\n",
       "51    tormundgiantsbane\n",
       "52        alliserthorne\n",
       "53       eddisontollett\n",
       "54                 olly\n",
       "55           bowenmarsh\n",
       "56        othellyarwyck\n",
       "57               wunwun\n",
       "58           sansastark\n",
       "59       brienneoftarth\n",
       "60            branstark\n",
       "61                hodor\n",
       "62         podrickpayne\n",
       "63            meerareed\n",
       "64                 osha\n",
       "65         bryndentully\n",
       "66          rickonstark\n",
       "67        smalljonumber\n",
       "68       haraldkarstark\n",
       "69          edmuretully\n",
       "70    daenerystargaryen\n",
       "71        daarionaharis\n",
       "72         jorahmormont\n",
       "73                 moro\n",
       "74               rhalko\n",
       "75                forzo\n",
       "76                 ahko\n",
       "77                qhono\n",
       "78       margaerytyrell\n",
       "79         samwelltarly\n",
       "80         olennatyrell\n",
       "81          lorastyrell\n",
       "82                gilly\n",
       "83         randylltarly\n",
       "84           macetyrell\n",
       "85          dickontarly\n",
       "86         melessatarly\n",
       "87           tallatarly\n",
       "Name: id, dtype: object"
      ]
     },
     "execution_count": 4,
     "metadata": {},
     "output_type": "execute_result"
    }
   ],
   "source": [
    "df['id']"
   ]
  },
  {
   "cell_type": "code",
   "execution_count": 5,
   "metadata": {
    "collapsed": true
   },
   "outputs": [],
   "source": [
    "df.to_csv('character.bios.csv', index=False)"
   ]
  }
 ],
 "metadata": {
  "kernelspec": {
   "display_name": "Python 2",
   "language": "python",
   "name": "python2"
  },
  "language_info": {
   "codemirror_mode": {
    "name": "ipython",
    "version": 2
   },
   "file_extension": ".py",
   "mimetype": "text/x-python",
   "name": "python",
   "nbconvert_exporter": "python",
   "pygments_lexer": "ipython2",
   "version": "2.7.10"
  }
 },
 "nbformat": 4,
 "nbformat_minor": 0
}
