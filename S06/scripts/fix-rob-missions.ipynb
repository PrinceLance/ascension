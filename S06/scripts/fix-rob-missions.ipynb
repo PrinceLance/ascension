{
 "cells": [
  {
   "cell_type": "code",
   "execution_count": 1,
   "metadata": {
    "collapsed": true
   },
   "outputs": [],
   "source": [
    "import pprint\n",
    "import simplejson\n",
    "import pandas as pd\n",
    "from firebase import firebase\n",
    "\n",
    "url = 'https://ascension.firebaseio.com'\n",
    "firebase = firebase.FirebaseApplication(url, None)\n",
    "base = firebase.get('/', None)"
   ]
  },
  {
   "cell_type": "code",
   "execution_count": 14,
   "metadata": {
    "collapsed": false
   },
   "outputs": [],
   "source": [
    "mission_key = [p for p in base['players'].values() if p['first_name'] == \"Rob\"][0]['missions'].keys()[0]"
   ]
  },
  {
   "cell_type": "code",
   "execution_count": 20,
   "metadata": {
    "collapsed": false
   },
   "outputs": [],
   "source": [
    "base['missions'][mission_key]['assassination_target_house'] = 'independent'\n",
    "base['missions'][mission_key]['diplomatic_target_house'] = 'independent'"
   ]
  },
  {
   "cell_type": "code",
   "execution_count": 23,
   "metadata": {
    "collapsed": true
   },
   "outputs": [],
   "source": [
    "with open('rob-missions-fix.json','w') as json_file:\n",
    "    simplejson.dump(base['missions'][mission_key], json_file)"
   ]
  }
 ],
 "metadata": {
  "kernelspec": {
   "display_name": "Python 2",
   "language": "python",
   "name": "python2"
  },
  "language_info": {
   "codemirror_mode": {
    "name": "ipython",
    "version": 2
   },
   "file_extension": ".py",
   "mimetype": "text/x-python",
   "name": "python",
   "nbconvert_exporter": "python",
   "pygments_lexer": "ipython2",
   "version": "2.7.11"
  }
 },
 "nbformat": 4,
 "nbformat_minor": 0
}
