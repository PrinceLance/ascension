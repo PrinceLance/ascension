{
 "cells": [
  {
   "cell_type": "code",
   "execution_count": 1,
   "metadata": {
    "collapsed": false
   },
   "outputs": [],
   "source": [
    "import pprint\n",
    "import simplejson\n",
    "import pandas as pd\n",
    "from firebase import firebase\n",
    "\n",
    "url = 'https://ascension.firebaseio.com'\n",
    "firebase = firebase.FirebaseApplication(url, None)\n",
    "base = firebase.get('/', None)"
   ]
  },
  {
   "cell_type": "code",
   "execution_count": 2,
   "metadata": {
    "collapsed": false
   },
   "outputs": [],
   "source": [
    "bios = pd.read_csv('character.bios.csv')\n",
    "powers = pd.read_csv('character.powers.csv')\n",
    "episodes = pd.read_csv('episodes.csv')\n",
    "houses = pd.read_csv('houses.csv')\n",
    "leagues = pd.read_csv('leagues.csv')"
   ]
  },
  {
   "cell_type": "markdown",
   "metadata": {},
   "source": [
    "## Game Data"
   ]
  },
  {
   "cell_type": "markdown",
   "metadata": {},
   "source": [
    "### Houses"
   ]
  },
  {
   "cell_type": "code",
   "execution_count": 3,
   "metadata": {
    "collapsed": true
   },
   "outputs": [],
   "source": [
    "idx = houses.id\n",
    "houses.index = idx\n",
    "houses_json = houses.to_json(orient='index', force_ascii=False)"
   ]
  },
  {
   "cell_type": "markdown",
   "metadata": {},
   "source": [
    "### Characters"
   ]
  },
  {
   "cell_type": "code",
   "execution_count": 4,
   "metadata": {
    "collapsed": false,
    "scrolled": false
   },
   "outputs": [],
   "source": [
    "characters = powers.merge(bios)\n",
    "idx = characters.id\n",
    "characters.index = idx\n",
    "char_json = characters.to_json(orient='index', force_ascii=False)"
   ]
  },
  {
   "cell_type": "markdown",
   "metadata": {},
   "source": [
    "### Episodes"
   ]
  },
  {
   "cell_type": "code",
   "execution_count": 5,
   "metadata": {
    "collapsed": false
   },
   "outputs": [],
   "source": [
    "idx = episodes.number\n",
    "episodes.index = idx\n",
    "eps_json = episodes.to_json(orient='index',force_ascii=False)"
   ]
  },
  {
   "cell_type": "markdown",
   "metadata": {},
   "source": [
    "## Merge"
   ]
  },
  {
   "cell_type": "code",
   "execution_count": 6,
   "metadata": {
    "collapsed": false,
    "scrolled": false
   },
   "outputs": [],
   "source": [
    "with open('ascension-export.json','w') as json_file:\n",
    "    base['houses'] = simplejson.loads(houses_json,\"utf-8\")\n",
    "    base['characters'] = simplejson.loads(char_json, \"utf-8\")\n",
    "    base['episodes'] = simplejson.loads(eps_json, \"utf-8\")\n",
    "    base['leagues'] = dict(zip(list(leagues.leagues.values), [True] * len(leagues)))"
   ]
  },
  {
   "cell_type": "code",
   "execution_count": 7,
   "metadata": {
    "collapsed": false
   },
   "outputs": [],
   "source": [
    "with open('ascension-import.json','w') as json_file:\n",
    "    simplejson.dump(base, json_file)"
   ]
  },
  {
   "cell_type": "markdown",
   "metadata": {},
   "source": [
    "#### Collect Values"
   ]
  },
  {
   "cell_type": "code",
   "execution_count": 13,
   "metadata": {
    "collapsed": false,
    "scrolled": false
   },
   "outputs": [],
   "source": [
    "# map(lambda x: x['email'], base['players'].values())"
   ]
  },
  {
   "cell_type": "markdown",
   "metadata": {},
   "source": [
    "## Fix League Assignment"
   ]
  },
  {
   "cell_type": "code",
   "execution_count": 14,
   "metadata": {
    "collapsed": false,
    "scrolled": false
   },
   "outputs": [],
   "source": [
    "# for key, player in base['players'].iteritems():\n",
    "#     print {player['facebook'] : {'name' : player['full_name'], 'games' : player['games']}}"
   ]
  },
  {
   "cell_type": "code",
   "execution_count": 9,
   "metadata": {
    "collapsed": false
   },
   "outputs": [],
   "source": [
    "leagues = {\n",
    "'10101665898917380': {'games': {u'westeros': u'-KGECAech_bBt1UlahvR'}, 'name': u'Dan Elias'},\n",
    "'10157050149995495': {'games': {u'dragon': u'-KGAL96FHYP2ImZ-PBET'}, 'name': u'Alejandro Anzola J\\xfcrgenson'},\n",
    "'10154140867945477': {'games': {u'dragon': u'-KGCTbNVSS96R53-90v_'}, 'name': u'Dale Foo'},\n",
    "'10153503420116080': {'games': {u'westeros': u'-KGA9a4ZuKQSO4Vmhoyb'}, 'name': u'Claudio Canzonetta'},\n",
    "'1325650077464216':  {'games': {u'westeros': u'-KGDW-jMuwELhDMfrxF2'}, 'name': u'Janneke Vissers'},\n",
    "'10205575299374399': {'games': {u'essos': u'-KGCsDHhxFyweVLBC0AA'}, 'name': u'Krystyna Kosciuszko'},\n",
    "'10154208683986383': {'games': True, 'name': u'Kirsty Rose'},\n",
    "'10201492508270081': {'games': {u'westeros': u'-KGDVzRCtFn0gSecFoQb'}, 'name': u'Ivar Posthumus'},\n",
    "'10156761991935328': {'games': True, 'name': u'Adrien Bordat'},\n",
    "'10154248140017994': {'games': {u'westeros': u'-KGDCPPxlYCo0VPXCoUW', u'dragon': u'-KGDUGdFlVurT0CFC4M9'}, 'name': u'Sherin Siew'},\n",
    "'10101666293431770': {'games': {u'westeros': u'-KGBZs5uSsv9rOvR0VRu'}, 'name': u'Hayley Elias'},\n",
    "'10153481481492478': {'games': True, 'name': u'Lance Cheung'},\n",
    "'10153944209001609': {'games': {u'essos': u'-KGAIMzp4T5z6tLZH5pj'}, 'name': u'Kristin Low'},\n",
    "'10153747594878003': {'games': {u'essos': u'-KGA2N2hnOzVBCx_nygp'}, 'name': u'Kelvin Kung'},\n",
    "'10154221089427526': {'games': {u'essos': u'-KGBhEZkrU2wrw3GACwK'}, 'name': u'Patti Hunt'},\n",
    "'10101665762111540': {'games': {u'westeros': u'-KGB1-QihLDlrpMj7xwZ'}, 'name': u'Hywel Carver'},\n",
    "'10156899416710714': {'games': {u'essos': u'-KGA4ENa6NKvWHU02_Yw'}, 'name': u'James Griffiths'},\n",
    "'10157044919110495': {'games': {u'westeros': u'-KGD89OLUQQoYKT9vz68', u'dragon': u'-KGD9vm5eldOWq2CLLaQ'}, 'name': u'Mart van de Ven'},\n",
    "'10100911652917320': {'games': {u'essos': u'-KGCqGalqpCs32QIslHN'}, 'name': u'Kai Okamura'},\n",
    "'10100288986712842': {'games': {u'essos': u'-KGAhjufgBl0BfaE-rQ8'}, 'name': u'Denis Tsoi'},\n",
    "'10153467798172019': {'games': {u'dragon': u'-KGD3BYXdsTrmMcOG5mG'}, 'name': u'Billy McCord'}\n",
    "}"
   ]
  },
  {
   "cell_type": "code",
   "execution_count": 10,
   "metadata": {
    "collapsed": false
   },
   "outputs": [],
   "source": [
    "for key, player in base['players'].iteritems():\n",
    "    player['games'] = leagues[player['facebook']]['games']"
   ]
  },
  {
   "cell_type": "code",
   "execution_count": 11,
   "metadata": {
    "collapsed": false
   },
   "outputs": [],
   "source": [
    "# base['players']"
   ]
  },
  {
   "cell_type": "markdown",
   "metadata": {},
   "source": [
    "## Fix Houses Assignment"
   ]
  },
  {
   "cell_type": "code",
   "execution_count": 15,
   "metadata": {
    "collapsed": false
   },
   "outputs": [],
   "source": [
    "# for key, player in base['players'].iteritems():\n",
    "#     try:\n",
    "#         print {player['facebook'] : {'name' : player['full_name'], 'house' : player['house']}}\n",
    "#     except KeyError:\n",
    "#         print {player['facebook'] : {'name' : player['full_name'], 'house' : True}}\n",
    "        \n",
    "        "
   ]
  },
  {
   "cell_type": "code",
   "execution_count": 13,
   "metadata": {
    "collapsed": false
   },
   "outputs": [],
   "source": [
    "houses = {\n",
    "'10101665898917380': {'house': {u'westeros': u'arryn'}, 'name': u'Dan Elias'},\n",
    "'10157050149995495': {'house': {u'dragon': u'stark'}, 'name': u'Alejandro Anzola J\\xfcrgenson'},\n",
    "'10154140867945477': {'house': {u'dragon': u'arryn'}, 'name': u'Dale Foo'},\n",
    "'10153503420116080': {'house': {u'westeros': u'martell'}, 'name': u'Claudio Canzonetta'},\n",
    "'1325650077464216': {'house': {u'westeros': u'tyrell'}, 'name': u'Janneke Vissers'},\n",
    "'10205575299374399': {'house': {u'essos': u'meereen'}, 'name': u'Krystyna Kosciuszko'},\n",
    "'10154208683986383': {'house': True, 'name': u'Kirsty Rose'},\n",
    "'10201492508270081': {'house': {u'westeros': u'nightswatch'}, 'name': u'Ivar Posthumus'},\n",
    "'10156761991935328': {'house': True, 'name': u'Adrien Bordat'},\n",
    "'10154248140017994': {'house': {u'westeros': u'stark', u'dragon': u'martell'}, 'name': u'Sherin Siew'},\n",
    "'10101666293431770': {'house': {u'westeros': u'targaryen'}, 'name': u'Hayley Elias'},\n",
    "'10153481481492478': {'house': True, 'name': u'Lance Cheung'},\n",
    "'10153944209001609': {'house': {u'essos': u'stark'}, 'name': u'Kristin Low'},\n",
    "'10153747594878003': {'house': {u'essos': u'greyjoy'}, 'name': u'Kelvin Kung'},\n",
    "'10154221089427526': {'house': {u'essos': u'martell'}, 'name': u'Patti Hunt'},\n",
    "'10101665762111540': {'house': {u'westeros': u'lannister'}, 'name': u'Hywel Carver'},\n",
    "'10156899416710714': {'house': {u'essos': u'tyrell'}, 'name': u'James Griffiths'},\n",
    "'10157044919110495': {'house': {u'westeros': u'independent', u'dragon': u'greyjoy'}, 'name': u'Mart van de Ven'},\n",
    "'10100911652917320': {'house': {u'essos': u'arryn'}, 'name': u'Kai Okamura'},\n",
    "'10100288986712842': {'house': {u'essos': u'independent'}, 'name': u'Denis Tsoi'},\n",
    "'10153467798172019': {'house': {u'dragon': u'lannister'}, 'name': u'Billy McCord'}\n",
    "}"
   ]
  },
  {
   "cell_type": "code",
   "execution_count": 14,
   "metadata": {
    "collapsed": true
   },
   "outputs": [],
   "source": [
    "for key, player in base['players'].iteritems():\n",
    "    player['house'] = houses[player['facebook']]['house']"
   ]
  },
  {
   "cell_type": "code",
   "execution_count": null,
   "metadata": {
    "collapsed": false
   },
   "outputs": [],
   "source": [
    "base['players']"
   ]
  },
  {
   "cell_type": "code",
   "execution_count": 15,
   "metadata": {
    "collapsed": true
   },
   "outputs": [],
   "source": [
    "with open('ascension-import.json','w') as json_file:\n",
    "    simplejson.dump(base, json_file)"
   ]
  }
 ],
 "metadata": {
  "kernelspec": {
   "display_name": "Python 2",
   "language": "python",
   "name": "python2"
  },
  "language_info": {
   "codemirror_mode": {
    "name": "ipython",
    "version": 2
   },
   "file_extension": ".py",
   "mimetype": "text/x-python",
   "name": "python",
   "nbconvert_exporter": "python",
   "pygments_lexer": "ipython2",
   "version": "2.7.11"
  }
 },
 "nbformat": 4,
 "nbformat_minor": 0
}
